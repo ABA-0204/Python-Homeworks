{
 "cells": [
  {
   "cell_type": "code",
   "execution_count": 1,
   "id": "f52b2ba7",
   "metadata": {},
   "outputs": [],
   "source": [
    "import json"
   ]
  },
  {
   "cell_type": "code",
   "execution_count": 2,
   "id": "760fad56",
   "metadata": {},
   "outputs": [
    {
     "ename": "ModuleNotFoundError",
     "evalue": "No module named 'requests'",
     "output_type": "error",
     "traceback": [
      "\u001b[31m---------------------------------------------------------------------------\u001b[39m",
      "\u001b[31mModuleNotFoundError\u001b[39m                       Traceback (most recent call last)",
      "\u001b[36mCell\u001b[39m\u001b[36m \u001b[39m\u001b[32mIn[2]\u001b[39m\u001b[32m, line 1\u001b[39m\n\u001b[32m----> \u001b[39m\u001b[32m1\u001b[39m \u001b[38;5;28;01mimport\u001b[39;00m\u001b[38;5;250m \u001b[39m\u001b[34;01mrequests\u001b[39;00m\n",
      "\u001b[31mModuleNotFoundError\u001b[39m: No module named 'requests'"
     ]
    }
   ],
   "source": [
    "import requests"
   ]
  },
  {
   "cell_type": "code",
   "execution_count": 3,
   "id": "e87a14d5",
   "metadata": {},
   "outputs": [
    {
     "name": "stdout",
     "output_type": "stream",
     "text": [
      "Collecting requests\n",
      "  Downloading requests-2.32.3-py3-none-any.whl.metadata (4.6 kB)\n",
      "Collecting charset-normalizer<4,>=2 (from requests)\n",
      "  Downloading charset_normalizer-3.4.2-cp312-cp312-win_amd64.whl.metadata (36 kB)\n",
      "Collecting idna<4,>=2.5 (from requests)\n",
      "  Downloading idna-3.10-py3-none-any.whl.metadata (10 kB)\n",
      "Collecting urllib3<3,>=1.21.1 (from requests)\n",
      "  Downloading urllib3-2.4.0-py3-none-any.whl.metadata (6.5 kB)\n",
      "Collecting certifi>=2017.4.17 (from requests)\n",
      "  Downloading certifi-2025.4.26-py3-none-any.whl.metadata (2.5 kB)\n",
      "Downloading requests-2.32.3-py3-none-any.whl (64 kB)\n",
      "Downloading certifi-2025.4.26-py3-none-any.whl (159 kB)\n",
      "Downloading charset_normalizer-3.4.2-cp312-cp312-win_amd64.whl (105 kB)\n",
      "Downloading idna-3.10-py3-none-any.whl (70 kB)\n",
      "Downloading urllib3-2.4.0-py3-none-any.whl (128 kB)\n",
      "Installing collected packages: urllib3, idna, charset-normalizer, certifi, requests\n",
      "Successfully installed certifi-2025.4.26 charset-normalizer-3.4.2 idna-3.10 requests-2.32.3 urllib3-2.4.0\n",
      "Note: you may need to restart the kernel to use updated packages.\n"
     ]
    },
    {
     "name": "stderr",
     "output_type": "stream",
     "text": [
      "  WARNING: The script normalizer.exe is installed in 'c:\\Users\\Notix.uz\\AppData\\Local\\Programs\\Python\\Python312\\Scripts' which is not on PATH.\n",
      "  Consider adding this directory to PATH or, if you prefer to suppress this warning, use --no-warn-script-location.\n",
      "\n",
      "[notice] A new release of pip is available: 24.3.1 -> 25.1.1\n",
      "[notice] To update, run: python.exe -m pip install --upgrade pip\n"
     ]
    }
   ],
   "source": [
    "pip install requests\n"
   ]
  },
  {
   "cell_type": "code",
   "execution_count": null,
   "id": "bf55d1ea",
   "metadata": {},
   "outputs": [
    {
     "ename": "SyntaxError",
     "evalue": "invalid syntax (510452223.py, line 1)",
     "output_type": "error",
     "traceback": [
      "  \u001b[36mCell\u001b[39m\u001b[36m \u001b[39m\u001b[32mIn[5]\u001b[39m\u001b[32m, line 1\u001b[39m\n\u001b[31m    \u001b[39m\u001b[31mupgrade pip\u001b[39m\n            ^\n\u001b[31mSyntaxError\u001b[39m\u001b[31m:\u001b[39m invalid syntax\n"
     ]
    }
   ],
   "source": []
  },
  {
   "cell_type": "code",
   "execution_count": 1,
   "id": "a45d2d50",
   "metadata": {},
   "outputs": [
    {
     "name": "stdout",
     "output_type": "stream",
     "text": [
      "30\n"
     ]
    }
   ],
   "source": [
    "import json\n",
    "\n",
    "# some JSON:\n",
    "x =  '{ \"name\":\"John\", \"age\":30, \"city\":\"New York\"}'\n",
    "\n",
    "# parse x:\n",
    "y = json.loads(x)\n",
    "\n",
    "# the result is a Python dictionary:\n",
    "print(y[\"age\"])"
   ]
  },
  {
   "cell_type": "code",
   "execution_count": 2,
   "id": "1ee2aac9",
   "metadata": {},
   "outputs": [
    {
     "name": "stdout",
     "output_type": "stream",
     "text": [
      "{\"name\": \"John\", \"age\": 30}\n",
      "[\"apple\", \"bananas\"]\n",
      "[\"apple\", \"bananas\"]\n",
      "\"hello\"\n",
      "42\n",
      "31.76\n",
      "true\n",
      "false\n",
      "null\n"
     ]
    }
   ],
   "source": [
    "import json\n",
    "\n",
    "print(json.dumps({\"name\": \"John\", \"age\": 30}))\n",
    "print(json.dumps([\"apple\", \"bananas\"]))\n",
    "print(json.dumps((\"apple\", \"bananas\")))\n",
    "print(json.dumps(\"hello\"))\n",
    "print(json.dumps(42))\n",
    "print(json.dumps(31.76))\n",
    "print(json.dumps(True))\n",
    "print(json.dumps(False))\n",
    "print(json.dumps(None))"
   ]
  },
  {
   "cell_type": "code",
   "execution_count": 9,
   "id": "826d2a35",
   "metadata": {},
   "outputs": [
    {
     "name": "stdout",
     "output_type": "stream",
     "text": [
      "{\"name\": \"John\", \"age\": 30, \"married\": true, \"divorced\": false, \"children\": [\"Ann\", \"Billy\"], \"pets\": null, \"cars\": [{\"model\": \"BMW 230\", \"mpg\": 27.5}, {\"model\": \"Ford Edge\", \"mpg\": 24.1}]}\n"
     ]
    },
    {
     "data": {
      "text/plain": [
       "'{\\n    \"age\": 30,\\n    \"cars\": [\\n        {\\n            \"model\": \"BMW 230\",\\n            \"mpg\": 27.5\\n        },\\n        {\\n            \"model\": \"Ford Edge\",\\n            \"mpg\": 24.1\\n        }\\n    ],\\n    \"children\": [\\n        \"Ann\",\\n        \"Billy\"\\n    ],\\n    \"divorced\": false,\\n    \"married\": true,\\n    \"name\": \"John\",\\n    \"pets\": null\\n}'"
      ]
     },
     "execution_count": 9,
     "metadata": {},
     "output_type": "execute_result"
    }
   ],
   "source": [
    "import json\n",
    "\n",
    "x = {\n",
    "  \"name\": \"John\",\n",
    "  \"age\": 30,\n",
    "  \"married\": True,\n",
    "  \"divorced\": False,\n",
    "  \"children\": (\"Ann\",\"Billy\"),\n",
    "  \"pets\": None,\n",
    "  \"cars\": [\n",
    "    {\"model\": \"BMW 230\", \"mpg\": 27.5},\n",
    "    {\"model\": \"Ford Edge\", \"mpg\": 24.1}\n",
    "  ]\n",
    "}\n",
    "\n",
    "print(json.dumps(x))\n",
    "\n",
    "json.dumps(x, indent=4)\n",
    "json.dumps(x, indent=4, separators=(\". \", \" = \"))\n",
    "json.dumps(x, indent=4, sort_keys=True)"
   ]
  },
  {
   "cell_type": "code",
   "execution_count": 10,
   "id": "3b630bf2",
   "metadata": {},
   "outputs": [
    {
     "name": "stdout",
     "output_type": "stream",
     "text": [
      "Python is awesome\n"
     ]
    }
   ],
   "source": [
    "x = \"awesome\"\n",
    "\n",
    "def myfunc():\n",
    "  print(\"Python is \" + x)\n",
    "\n",
    "myfunc()\n"
   ]
  },
  {
   "cell_type": "code",
   "execution_count": 11,
   "id": "313fd76f",
   "metadata": {},
   "outputs": [
    {
     "name": "stdout",
     "output_type": "stream",
     "text": [
      "Python is fantastic\n",
      "Python is awesome\n"
     ]
    }
   ],
   "source": [
    "x = \"awesome\"\n",
    "\n",
    "def myfunc():\n",
    "  x = \"fantastic\"\n",
    "  print(\"Python is \" + x)\n",
    "\n",
    "myfunc()\n",
    "\n",
    "print(\"Python is \" + x)"
   ]
  },
  {
   "cell_type": "code",
   "execution_count": 13,
   "id": "3d94e23d",
   "metadata": {},
   "outputs": [
    {
     "name": "stdout",
     "output_type": "stream",
     "text": [
      "3\n"
     ]
    }
   ],
   "source": [
    "import random\n",
    "\n",
    "print(random.randrange(1, 10))\n"
   ]
  },
  {
   "cell_type": "code",
   "execution_count": 26,
   "id": "4b13d340",
   "metadata": {},
   "outputs": [
    {
     "name": "stdout",
     "output_type": "stream",
     "text": [
      "Jello, World!\n"
     ]
    }
   ],
   "source": [
    "a = \"Hello, World!\"\n",
    "print(a.replace(\"H\", \"J\"))"
   ]
  },
  {
   "cell_type": "code",
   "execution_count": 24,
   "id": "1417e65c",
   "metadata": {},
   "outputs": [
    {
     "name": "stdout",
     "output_type": "stream",
     "text": [
      "Hello, World       !\n"
     ]
    }
   ],
   "source": [
    "a = \"          Hello, World       !             \"\n",
    "print(a.strip()) # returns \"Hello, World!\""
   ]
  },
  {
   "cell_type": "code",
   "execution_count": 28,
   "id": "b0974ae8",
   "metadata": {},
   "outputs": [
    {
     "name": "stdout",
     "output_type": "stream",
     "text": [
      "Hello World\n"
     ]
    }
   ],
   "source": [
    "a = \"Hello\"\n",
    "b = \"World\"\n",
    "c = a + \" \" + b\n",
    "print(c)"
   ]
  },
  {
   "cell_type": "code",
   "execution_count": 29,
   "id": "e72191fd",
   "metadata": {},
   "outputs": [
    {
     "name": "stdout",
     "output_type": "stream",
     "text": [
      "My name is John, I am 36\n"
     ]
    }
   ],
   "source": [
    "age = 36\n",
    "txt = f\"My name is John, I am {age}\"\n",
    "print(txt)"
   ]
  },
  {
   "cell_type": "code",
   "execution_count": 31,
   "metadata": {},
   "outputs": [
    {
     "name": "stdout",
     "output_type": "stream",
     "text": [
      "The price is 1180 dollars\n"
     ]
    }
   ],
   "source": [
    "price = 59\n",
    "txt = f\"The price is {20 * 59} dollars\"\n",
    "print(txt)\n"
   ]
  },
  {
   "cell_type": "code",
   "execution_count": 32,
   "metadata": {},
   "outputs": [
    {
     "ename": "SyntaxError",
     "evalue": "invalid syntax (7934146.py, line 1)",
     "output_type": "error",
     "traceback": [
      "  \u001b[36mCell\u001b[39m\u001b[36m \u001b[39m\u001b[32mIn[32]\u001b[39m\u001b[32m, line 1\u001b[39m\n\u001b[31m    \u001b[39m\u001b[31mtxt = \"We are the so-called \"Vikings\" from the north.\"\u001b[39m\n                                 ^\n\u001b[31mSyntaxError\u001b[39m\u001b[31m:\u001b[39m invalid syntax\n"
     ]
    }
   ],
   "source": [
    "txt = \"We are the so-called \"Vikings\" from the north.\""
   ]
  },
  {
   "cell_type": "code",
   "execution_count": 34,
   "id": "bb7a4b8d",
   "metadata": {},
   "outputs": [
    {
     "name": "stdout",
     "output_type": "stream",
     "text": [
      "We are the so-called \"Vikings\" from the north.\n"
     ]
    }
   ],
   "source": [
    "txt = \"We are the so-called \\\"Vikings\\\" from the north.\"\n",
    "print(txt)"
   ]
  },
  {
   "cell_type": "code",
   "execution_count": 35,
   "id": "52bb218b",
   "metadata": {},
   "outputs": [
    {
     "name": "stdout",
     "output_type": "stream",
     "text": [
      "b is not greater than a\n"
     ]
    }
   ],
   "source": [
    "a = 200\n",
    "b = 33\n",
    "\n",
    "if b > a:\n",
    "  print(\"b is greater than a\")\n",
    "else:\n",
    "  print(\"b is not greater than a\")"
   ]
  },
  {
   "cell_type": "code",
   "execution_count": 36,
   "id": "59a5c11c",
   "metadata": {},
   "outputs": [
    {
     "name": "stdout",
     "output_type": "stream",
     "text": [
      "True\n",
      "True\n"
     ]
    }
   ],
   "source": [
    "print(bool(\"Hello\"))\n",
    "print(bool(15))\n"
   ]
  },
  {
   "cell_type": "code",
   "execution_count": 37,
   "id": "70dbb0dc",
   "metadata": {},
   "outputs": [
    {
     "name": "stdout",
     "output_type": "stream",
     "text": [
      "True\n",
      "True\n"
     ]
    }
   ],
   "source": [
    "x = \"Hello\"\n",
    "y = 15\n",
    "\n",
    "print(bool(x))\n",
    "print(bool(y))"
   ]
  },
  {
   "cell_type": "code",
   "execution_count": 39,
   "id": "8565ce7a",
   "metadata": {},
   "outputs": [],
   "source": [
    "#Task: JSON Parsing\n",
    "#write a Python script that reads the students.jon JSON file and prints details of each student.\n",
    "\n",
    "import json\n",
    "\n",
    "def read_students():\n",
    "    with open('students.json', 'r') as file:\n",
    "        students = json.load(file)\n",
    "        print(students)"
   ]
  },
  {
   "cell_type": "code",
   "execution_count": null,
   "id": "b1007a31",
   "metadata": {},
   "outputs": [
    {
     "name": "stdout",
     "output_type": "stream",
     "text": [
      "Failed to fetch weather data\n"
     ]
    }
   ],
   "source": [
    "#Task: Weather API\n",
    "#Use this url : https://openweathermap.org/\n",
    "#Use the requests library to fetch weather data for a specific city(ex. your hometown: Tashkent) and print relevant information (temperature, humidity, etc.).\n",
    "\n",
    "import requests\n",
    "\n",
    "def get_weather(city):\n",
    "    api_key = \"your_api_key_here\"  # OpenWeatherMap API key should be here\n",
    "    url = f\"http://api.openweathermap.org/data/2.5/weather?q={city}&appid={api_key}&units=metric\"\n",
    "\n",
    "    response = requests.get(url)\n",
    "    if response.status_code == 200:\n",
    "        data = response.json()\n",
    "        print(f\"City: {data['name']}\")\n",
    "        print(f\"Temperature: {data['main']['temp']} °C\")\n",
    "        print(f\"Humidity: {data['main']['humidity']}%\")\n",
    "        print(f\"Weather: {data['weather'][0]['description']}\")\n",
    "    else:\n",
    "        print(\"Failed to fetch weather data\")\n",
    "\n",
    "get_weather(\"Tashkent\")\n"
   ]
  },
  {
   "cell_type": "code",
   "execution_count": null,
   "id": "a66782a6",
   "metadata": {},
   "outputs": [],
   "source": [
    "#Task: JSON Modification\n",
    "#Write a program that allows users to add new books, update existing book information, and delete books from the books.json JSON file.\n",
    "import json\n",
    "\n",
    "def load_books():\n",
    "    try:\n",
    "        with open('books.json', 'r') as file:\n",
    "            return json.load(file)\n",
    "    except FileNotFoundError:\n",
    "        return []\n",
    "\n",
    "def save_books(books):\n",
    "    with open('books.json', 'w') as file:\n",
    "        json.dump(books, file, indent=4)\n",
    "\n",
    "def add_book(book):\n",
    "    books = load_books()\n",
    "    books.append(book)\n",
    "    save_books(books)\n",
    "\n",
    "def update_book(title, updated_info):\n",
    "    books = load_books()\n",
    "    for book in books:\n",
    "        if book['title'].lower() == title.lower():\n",
    "            book.update(updated_info)\n",
    "            break\n",
    "    save_books(books)\n",
    "\n",
    "def delete_book(title):\n",
    "    books = load_books()\n",
    "    books = [book for book in books if book['title'].lower() != title.lower()]\n",
    "    save_books(books)\n",
    "\n",
    "\n",
    "add_book({\"title\": \"Python Basics\", \"author\": \"John Doe\", \"year\": 2020})\n",
    "update_book(\"Python Basics\", {\"year\": 2021})\n",
    "delete_book(\"Python Basics\")\n"
   ]
  },
  {
   "cell_type": "code",
   "execution_count": 42,
   "id": "54e8eae0",
   "metadata": {},
   "outputs": [],
   "source": [
    "add_book({\"title\": \"Python Basics\", \"author\": \"John Doe\", \"year\": 2020})\n"
   ]
  },
  {
   "cell_type": "code",
   "execution_count": 43,
   "id": "8e6e5b84",
   "metadata": {},
   "outputs": [],
   "source": [
    "update_book(\"Python Basics\", {\"year\": 2021})\n"
   ]
  },
  {
   "cell_type": "code",
   "execution_count": 44,
   "metadata": {},
   "outputs": [],
   "source": [
    "#Task: Movie Recommendation System\n",
    "#Use this url http://www.omdbapi.com/ to fetch information about movies.\n",
    "#Create a program that asks users for a movie genre and recommends a random movie from that genre.\n",
    "import json\n",
    "\n",
    "def load_books():\n",
    "    try:\n",
    "        with open('books.json', 'r') as file:\n",
    "            return json.load(file)\n",
    "    except FileNotFoundError:\n",
    "        return []\n",
    "\n",
    "def save_books(books):\n",
    "    with open('books.json', 'w') as file:\n",
    "        json.dump(books, file, indent=4)\n",
    "\n",
    "def add_book(book):\n",
    "    books = load_books()\n",
    "    books.append(book)\n",
    "    save_books(books)\n",
    "\n",
    "def update_book(title, updated_info):\n",
    "    books = load_books()\n",
    "    for book in books:\n",
    "        if book['title'].lower() == title.lower():\n",
    "            book.update(updated_info)\n",
    "            break\n",
    "    save_books(books)\n",
    "\n",
    "def delete_book(title):\n",
    "    books = load_books()\n",
    "    books = [book for book in books if book['title'].lower() != title.lower()]\n",
    "    save_books(books)\n",
    "\n",
    "\n",
    "#add_book({\"title\": \"Python Basics\", \"author\": \"John Doe\", \"year\": 2020})\n",
    "#update_book(\"Python Basics\", {\"year\": 2021})\n",
    "#delete_book(\"Python Basics\")\n"
   ]
  }
 ],
 "metadata": {
  "kernelspec": {
   "display_name": "Python 3",
   "language": "python",
   "name": "python3"
  },
  "language_info": {
   "codemirror_mode": {
    "name": "ipython",
    "version": 3
   },
   "file_extension": ".py",
   "mimetype": "text/x-python",
   "name": "python",
   "nbconvert_exporter": "python",
   "pygments_lexer": "ipython3",
   "version": "3.12.9"
  }
 },
 "nbformat": 4,
 "nbformat_minor": 5
}
