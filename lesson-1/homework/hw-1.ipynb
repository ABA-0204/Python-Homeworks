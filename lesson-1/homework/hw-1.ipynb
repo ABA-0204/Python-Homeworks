{
 "cells": [
  {
   "cell_type": "code",
   "execution_count": null,
   "id": "cacce6a6",
   "metadata": {},
   "outputs": [
    {
     "data": {
      "text/plain": [
       "16"
      ]
     },
     "execution_count": 2,
     "metadata": {},
     "output_type": "execute_result"
    }
   ],
   "source": [
    "import math\n",
    "\n",
    "# 1. Given a side of square. Find its perimeter and area.\n",
    "side = float(input(\"Enter the side of the square: \"))\n",
    "square_perimeter = 4 * side\n",
    "square_area = side ** 2\n",
    "print(f\"Perimeter of square: {square_perimeter}\")\n",
    "print(f\"Area of square: {square_area}\")\n",
    "\n",
    "# 2. Given diameter of circle. Find its length (circumference).\n",
    "diameter = float(input(\"\\nEnter the diameter of the circle: \"))\n",
    "circle_circumference = math.pi * diameter\n",
    "print(f\"Circumference of the circle: {circle_circumference}\")\n",
    "\n",
    "# 3. Given two numbers a and b. Find their mean.\n",
    "a = float(input(\"\\nEnter first number (a): \"))\n",
    "b = float(input(\"Enter second number (b): \"))\n",
    "mean = (a + b) / 2\n",
    "print(f\"Mean of a and b: {mean}\")\n",
    "\n",
    "# 4. Given two numbers a and b. Find their sum, product and square of each number.\n",
    "sum_ab = a + b\n",
    "product_ab = a * b\n",
    "square_a = a ** 2\n",
    "square_b = b ** 2\n",
    "print(f\"Sum of a and b: {sum_ab}\")\n",
    "print(f\"Product of a and b: {product_ab}\")\n",
    "print(f\"Square of a: {square_a}\")\n",
    "print(f\"Square of b: {square_b}\")\n"
   ]
  },
  {
   "cell_type": "code",
   "execution_count": 4,
   "id": "acc3116c",
   "metadata": {},
   "outputs": [
    {
     "data": {
      "text/plain": [
       "9.42"
      ]
     },
     "execution_count": 4,
     "metadata": {},
     "output_type": "execute_result"
    }
   ],
   "source": [
    "#Given diameter of circle. Find its length.\n",
    "d=3\n",
    "3.14*d"
   ]
  },
  {
   "cell_type": "code",
   "execution_count": 5,
   "id": "56543752",
   "metadata": {},
   "outputs": [
    {
     "data": {
      "text/plain": [
       "5.0"
      ]
     },
     "execution_count": 5,
     "metadata": {},
     "output_type": "execute_result"
    }
   ],
   "source": [
    "#Given two numbers a and b. Find their mean.\n",
    "a=6\n",
    "b=4\n",
    "(a+b)/2\n"
   ]
  },
  {
   "cell_type": "code",
   "execution_count": 6,
   "id": "79e0d179",
   "metadata": {},
   "outputs": [
    {
     "data": {
      "text/plain": [
       "36"
      ]
     },
     "execution_count": 6,
     "metadata": {},
     "output_type": "execute_result"
    }
   ],
   "source": [
    "#Given two numbers a and b. Find their sum, product and square of each number.\n",
    "a=5\n",
    "b=6\n",
    "a+b\n",
    "a*b\n",
    "a**2\n",
    "b**2"
   ]
  }
 ],
 "metadata": {
  "kernelspec": {
   "display_name": "Python 3",
   "language": "python",
   "name": "python3"
  },
  "language_info": {
   "codemirror_mode": {
    "name": "ipython",
    "version": 3
   },
   "file_extension": ".py",
   "mimetype": "text/x-python",
   "name": "python",
   "nbconvert_exporter": "python",
   "pygments_lexer": "ipython3",
   "version": "3.12.9"
  }
 },
 "nbformat": 4,
 "nbformat_minor": 5
}
