a=4
a*4
a**2

#Given diameter of circle. Find its length.
d=3
3.14*d
#Given two numbers a and b. Find their mean.
a=6
b=4
(a+b)/2

#Given two numbers a and b. Find their sum, product and square of each number.
a=5
b=6
a+b
a*b
a**2
b**2
