{
 "cells": [
  {
   "cell_type": "markdown",
   "id": "e9abaf0f",
   "metadata": {},
   "source": [
    "###datetime"
   ]
  },
  {
   "cell_type": "code",
   "execution_count": 7,
   "id": "2002e605",
   "metadata": {},
   "outputs": [
    {
     "name": "stdout",
     "output_type": "stream",
     "text": [
      "2009-08-18 00:00:00\n",
      "Years: 15\n",
      "Months: 189\n",
      "Days: 5762\n"
     ]
    }
   ],
   "source": [
    "#Age Calculator: Ask the user to enter their birthdate. Calculate and print their age in years, months, and days.\n",
    "\n",
    "from datetime import datetime\n",
    "\n",
    "date_str = input('Enter your birth date in format(2008-08-18): ')\n",
    "date_format = '%Y-%m-%d'\n",
    "\n",
    "date_date = datetime.strptime(date_str, date_format)\n",
    "print(date_date)\n",
    "\n",
    "today = datetime.today()\n",
    "time_difference = today - date_date\n",
    "D = time_difference.days\n",
    "M = int((D/365)*12)\n",
    "Y = int(D/365)\n",
    "print(f\"Years: {Y}\")\n",
    "print(f\"Months: {M}\")\n",
    "print(f\"Days: {D}\")"
   ]
  },
  {
   "cell_type": "code",
   "execution_count": 6,
   "id": "f7866d81",
   "metadata": {},
   "outputs": [
    {
     "name": "stdout",
     "output_type": "stream",
     "text": [
      "2009-08-18 00:00:00\n"
     ]
    }
   ],
   "source": [
    "from datetime import datetime\n",
    "\n",
    "date_str = input('Enter your birth date in format(2008-08-18): ')\n",
    "date_format = '%Y-%m-%d'\n",
    "\n",
    "date_date = datetime.strptime(date_str, date_format)\n",
    "print(date_date)"
   ]
  },
  {
   "cell_type": "code",
   "execution_count": 24,
   "metadata": {},
   "outputs": [
    {
     "name": "stdout",
     "output_type": "stream",
     "text": [
      "52\n"
     ]
    }
   ],
   "source": [
    "#Days Until Next Birthday: Similar to the first exercise, but this time, calculate and print the number of days remaining until the user's next birthday.\n",
    "from datetime import datetime,timedelta\n",
    "from dateutil.relativedelta import relativedelta\n",
    "date_str = input('Enter your birth date in format(2008-08-18): ')\n",
    "date_format = '%Y-%m-%d'\n",
    "today=datetime.today()\n",
    "birth_date = datetime.strptime(date_str, date_format)\n",
    "if birth_date.month<=today.month and birth_date.day<=today.day:\n",
    "    age = today.year - birth_date.year \n",
    "\n",
    "    coming_birthdate = birth_date + relativedelta(years=age+1)\n",
    "\n",
    "    gap1=(coming_birthdate - today).days\n",
    "    print(gap1)\n",
    "else:\n",
    "    age = today.year - birth_date.year \n",
    "\n",
    "    coming_birthdate = birth_date + relativedelta(years=age)\n",
    "\n",
    "    gap1=(coming_birthdate - today).days\n",
    "    print(gap1)\n",
    "\n",
    "\n",
    "\n",
    "\n",
    "\n",
    "\n",
    "# print(date_date)    print(coming_birthdate)\n"
   ]
  },
  {
   "cell_type": "code",
   "execution_count": 5,
   "metadata": {},
   "outputs": [
    {
     "name": "stdout",
     "output_type": "stream",
     "text": [
      "2023-02-28 14:30:00\n"
     ]
    },
    {
     "data": {
      "text/plain": [
       "datetime.datetime(2023, 2, 28, 16, 20)"
      ]
     },
     "execution_count": 5,
     "metadata": {},
     "output_type": "execute_result"
    }
   ],
   "source": [
    "#Meeting Scheduler: Ask the user to enter the current date and time, as well as the duration of a meeting in hours and minutes. Calculate and print the date and time when the meeting will end.\n",
    "from datetime import date,time,timedelta\n",
    "from datetime import datetime\n",
    "\n",
    "cur_datetime=input('enter current date and time:')\n",
    "\n",
    "duration=input('Enter meeting duration: ').split(\":\")\n",
    "\n",
    "hours = int(duration[0])\n",
    "mins = int(duration[1])\n",
    "\n",
    "\n",
    "# Example with the standard date and time format\n",
    "# date_str = '2023-02-28 14:30:00'\n",
    "date_str = cur_datetime\n",
    "\n",
    "date_format = '%Y-%m-%d %H:%M:%S'\n",
    "\n",
    "curr_date = datetime.strptime(date_str, date_format)\n",
    "print(curr_date)\n",
    "\n",
    "end_date = curr_date  + timedelta(hours=hours,minutes=mins)\n",
    "\n",
    "\n",
    "end_date\n"
   ]
  },
  {
   "cell_type": "code",
   "execution_count": null,
   "id": "880d0e8e",
   "metadata": {},
   "outputs": [
    {
     "data": {
      "text/plain": [
       "'50'"
      ]
     },
     "execution_count": 2,
     "metadata": {},
     "output_type": "execute_result"
    }
   ],
   "source": [
    "duration=input('Enter meeting duration: ').split(\":\")\n",
    "\n",
    "hours = int(duration[0])\n",
    "mins = int(duration[1])\n",
    "\n",
    "mins\n"
   ]
  },
  {
   "cell_type": "code",
   "execution_count": 25,
   "metadata": {},
   "outputs": [
    {
     "ename": "SyntaxError",
     "evalue": "leading zeros in decimal integer literals are not permitted; use an 0o prefix for octal integers (3045965754.py, line 3)",
     "output_type": "error",
     "traceback": [
      "  \u001b[36mCell\u001b[39m\u001b[36m \u001b[39m\u001b[32mIn[25]\u001b[39m\u001b[32m, line 3\u001b[39m\n\u001b[31m    \u001b[39m\u001b[31muser_datetimetimezone=input('Enter your current date and  time with timezone in format('2023-02-28 14:30:00+05:30') : ')\u001b[39m\n                                                                                                 ^\n\u001b[31mSyntaxError\u001b[39m\u001b[31m:\u001b[39m leading zeros in decimal integer literals are not permitted; use an 0o prefix for octal integers\n"
     ]
    }
   ],
   "source": [
    "#Timezone Converter: Create a program that allows the user to enter a date and time along with their current timezone, and then convert and print the date and time in another timezone of their choice.\n",
    "from datetime import pytz\n",
    "user_datetimetimezone=input('Enter your current date and  time with timezone in format('2023-02-28 14:30:00+05:30') : ')\n",
    "date_format = '%Y-%m-%d %H:%M:%S%z'\n",
    "date_obj = datetime.strptime(date_str, date_format)\n",
    "print(date_obj)\n",
    "\n",
    "\n",
    "\n"
   ]
  },
  {
   "cell_type": "code",
   "execution_count": null,
   "metadata": {},
   "outputs": [],
   "source": []
  },
  {
   "cell_type": "code",
   "execution_count": null,
   "metadata": {},
   "outputs": [],
   "source": []
  },
  {
   "cell_type": "code",
   "execution_count": null,
   "metadata": {},
   "outputs": [],
   "source": []
  },
  {
   "cell_type": "code",
   "execution_count": null,
   "metadata": {},
   "outputs": [],
   "source": []
  },
  {
   "cell_type": "code",
   "execution_count": null,
   "metadata": {},
   "outputs": [],
   "source": []
  },
  {
   "cell_type": "code",
   "execution_count": null,
   "metadata": {},
   "outputs": [],
   "source": []
  },
  {
   "cell_type": "code",
   "execution_count": null,
   "metadata": {},
   "outputs": [],
   "source": []
  },
  {
   "cell_type": "code",
   "execution_count": null,
   "metadata": {},
   "outputs": [],
   "source": []
  },
  {
   "cell_type": "code",
   "execution_count": null,
   "metadata": {},
   "outputs": [],
   "source": []
  },
  {
   "cell_type": "code",
   "execution_count": null,
   "metadata": {},
   "outputs": [],
   "source": []
  },
  {
   "cell_type": "code",
   "execution_count": null,
   "metadata": {},
   "outputs": [],
   "source": []
  },
  {
   "cell_type": "code",
   "execution_count": null,
   "metadata": {},
   "outputs": [],
   "source": []
  },
  {
   "cell_type": "code",
   "execution_count": null,
   "metadata": {},
   "outputs": [],
   "source": []
  },
  {
   "cell_type": "code",
   "execution_count": null,
   "metadata": {},
   "outputs": [],
   "source": []
  }
 ],
 "metadata": {
  "kernelspec": {
   "display_name": "Python 3",
   "language": "python",
   "name": "python3"
  },
  "language_info": {
   "codemirror_mode": {
    "name": "ipython",
    "version": 3
   },
   "file_extension": ".py",
   "mimetype": "text/x-python",
   "name": "python",
   "nbconvert_exporter": "python",
   "pygments_lexer": "ipython3",
   "version": "3.12.9"
  }
 },
 "nbformat": 4,
 "nbformat_minor": 5
}
