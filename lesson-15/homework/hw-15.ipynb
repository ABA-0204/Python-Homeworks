{
 "cells": [
  {
   "cell_type": "code",
   "execution_count": 2,
   "id": "6e531c2b",
   "metadata": {},
   "outputs": [],
   "source": [
    "#Create a new database with a table named Roster that has three fields: Name, Species, and Age. \n",
    "# The Name and Species columns should be text fields, and the Age column should be an integer field.\n",
    "import sqlite3\n",
    "connection=sqlite3.connect('Test_db.db')"
   ]
  },
  {
   "cell_type": "code",
   "execution_count": 3,
   "metadata": {},
   "outputs": [],
   "source": [
    "create_table=\"\"\"CREATE TABLE Roster(Name TEXT, Species TEXT, Age int)\"\"\";\n",
    "\n",
    "#insert_values=\"\"\"INSERT INTO Roster values()\"\"\"\n",
    "with sqlite3.connect ('Test_db.db') as connection:\n",
    "    my_cursor=connection.cursor()\n",
    "    my_cursor.execute(create_table)\n",
    "    connection.commit\n"
   ]
  },
  {
   "cell_type": "code",
   "execution_count": 4,
   "id": "bead450f",
   "metadata": {},
   "outputs": [],
   "source": [
    "#Populate your new table with the following values:\n",
    "insert_values=\"\"\"INSERT INTO Roster values('Benjamin Sisko', 'Human', 40),('Jadzia Dax', 'Trill', 300), ('Kira Nerys', 'Bajoran',29)\"\"\"\n",
    "with sqlite3.connect ('Test_db.db') as connection:\n",
    "    my_cursor=connection.cursor()\n",
    "    my_cursor.execute(insert_values)\n",
    "    connection.commit\n",
    "\n"
   ]
  },
  {
   "cell_type": "code",
   "execution_count": 7,
   "id": "3762611d",
   "metadata": {},
   "outputs": [],
   "source": [
    "#Update the Name of Jadzia Dax to be Ezri Dax\n",
    "update_value = \"\"\"UPDATE Roster SET name='Ezri Dax' WHERE name='Jadzia Dax'\"\"\"\n",
    "with sqlite3.connect ('Test_db.db') as connection:\n",
    "    my_cursor=connection.cursor()\n",
    "    my_cursor.execute(update_value)\n",
    "    connection.commit"
   ]
  },
  {
   "cell_type": "code",
   "execution_count": 6,
   "metadata": {},
   "outputs": [
    {
     "data": {
      "text/plain": [
       "['__class__',\n",
       " '__delattr__',\n",
       " '__dir__',\n",
       " '__doc__',\n",
       " '__eq__',\n",
       " '__format__',\n",
       " '__ge__',\n",
       " '__getattribute__',\n",
       " '__getstate__',\n",
       " '__gt__',\n",
       " '__hash__',\n",
       " '__init__',\n",
       " '__init_subclass__',\n",
       " '__iter__',\n",
       " '__le__',\n",
       " '__lt__',\n",
       " '__module__',\n",
       " '__ne__',\n",
       " '__new__',\n",
       " '__next__',\n",
       " '__reduce__',\n",
       " '__reduce_ex__',\n",
       " '__repr__',\n",
       " '__setattr__',\n",
       " '__sizeof__',\n",
       " '__str__',\n",
       " '__subclasshook__',\n",
       " 'arraysize',\n",
       " 'close',\n",
       " 'connection',\n",
       " 'description',\n",
       " 'execute',\n",
       " 'executemany',\n",
       " 'executescript',\n",
       " 'fetchall',\n",
       " 'fetchmany',\n",
       " 'fetchone',\n",
       " 'lastrowid',\n",
       " 'row_factory',\n",
       " 'rowcount',\n",
       " 'setinputsizes',\n",
       " 'setoutputsize']"
      ]
     },
     "execution_count": 6,
     "metadata": {},
     "output_type": "execute_result"
    }
   ],
   "source": [
    "dir(my_cursor)"
   ]
  },
  {
   "cell_type": "code",
   "execution_count": 9,
   "metadata": {},
   "outputs": [],
   "source": [
    "# Display the Name and Age of everyone in the table classified as Bajoran.\n",
    "Bajoran_value = \"\"\"SELECT * from Roster WHERE species='Bajoran'\"\"\"\n",
    "with sqlite3.connect ('Test_db.db') as connection:\n",
    "    my_cursor=connection.cursor()\n",
    "    my_cursor.execute(Bajoran_value)\n"
   ]
  },
  {
   "cell_type": "code",
   "execution_count": null,
   "metadata": {},
   "outputs": [],
   "source": []
  },
  {
   "cell_type": "code",
   "execution_count": null,
   "metadata": {},
   "outputs": [],
   "source": []
  },
  {
   "cell_type": "code",
   "execution_count": null,
   "metadata": {},
   "outputs": [],
   "source": []
  },
  {
   "cell_type": "code",
   "execution_count": null,
   "metadata": {},
   "outputs": [],
   "source": []
  },
  {
   "cell_type": "code",
   "execution_count": null,
   "id": "bf851af5",
   "metadata": {},
   "outputs": [],
   "source": []
  },
  {
   "cell_type": "code",
   "execution_count": null,
   "metadata": {},
   "outputs": [],
   "source": []
  },
  {
   "cell_type": "code",
   "execution_count": null,
   "metadata": {},
   "outputs": [],
   "source": []
  },
  {
   "cell_type": "code",
   "execution_count": null,
   "metadata": {},
   "outputs": [],
   "source": []
  },
  {
   "cell_type": "code",
   "execution_count": null,
   "metadata": {},
   "outputs": [],
   "source": []
  },
  {
   "cell_type": "code",
   "execution_count": null,
   "metadata": {},
   "outputs": [],
   "source": []
  },
  {
   "cell_type": "code",
   "execution_count": null,
   "metadata": {},
   "outputs": [],
   "source": []
  }
 ],
 "metadata": {
  "kernelspec": {
   "display_name": "Python 3",
   "language": "python",
   "name": "python3"
  },
  "language_info": {
   "codemirror_mode": {
    "name": "ipython",
    "version": 3
   },
   "file_extension": ".py",
   "mimetype": "text/x-python",
   "name": "python",
   "nbconvert_exporter": "python",
   "pygments_lexer": "ipython3",
   "version": "3.12.9"
  }
 },
 "nbformat": 4,
 "nbformat_minor": 5
}
