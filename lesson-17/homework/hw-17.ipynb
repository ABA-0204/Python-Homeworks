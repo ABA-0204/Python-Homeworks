{
 "cells": [
  {
   "cell_type": "code",
   "execution_count": 1,
   "id": "9ab11173",
   "metadata": {},
   "outputs": [
    {
     "name": "stdout",
     "output_type": "stream",
     "text": [
      "(2, 2)\n",
      "Index(['Name', 'Age'], dtype='object')\n",
      "RangeIndex(start=0, stop=2, step=1)\n",
      "Name    object\n",
      "Age      int64\n",
      "dtype: object\n"
     ]
    }
   ],
   "source": [
    "import pandas as pd\n",
    "\n",
    "\n",
    "df = pd.DataFrame({\n",
    "    'Name': ['Alice', 'Bob'],\n",
    "    'Age': [25, 30]\n",
    "})\n",
    "\n",
    "print(df.shape)       # (rows, columns)\n",
    "print(df.columns)     # Index of column names\n",
    "print(df.index)       # Index of row labels\n",
    "print(df.dtypes)      # Data type of each column\n"
   ]
  },
  {
   "cell_type": "code",
   "execution_count": 4,
   "metadata": {},
   "outputs": [
    {
     "name": "stdout",
     "output_type": "stream",
     "text": [
      "0    15\n",
      "1    25\n",
      "2    35\n",
      "dtype: int64\n",
      "20.0\n",
      "30\n"
     ]
    }
   ],
   "source": [
    "s = pd.Series([10, 20, 30])\n",
    "print(s + 5)       # Add 5 to each element\n",
    "print(s.mean())    # Mean\n",
    "print(s.max())     # Maximum\n"
   ]
  },
  {
   "cell_type": "code",
   "execution_count": 6,
   "id": "0a2a3320",
   "metadata": {},
   "outputs": [
    {
     "name": "stdout",
     "output_type": "stream",
     "text": [
      "Index(['Full Name', 'Years'], dtype='object')\n"
     ]
    }
   ],
   "source": [
    "df = df.rename(columns={'Name': 'Full Name', 'Age': 'Years'})\n",
    "print(df.columns)"
   ]
  },
  {
   "cell_type": "code",
   "execution_count": 7,
   "metadata": {},
   "outputs": [],
   "source": [
    "import pandas as pd\n",
    "\n",
    "data = {'First Name': ['Alice', 'Bob', 'Charlie', 'David'], 'Age': [25, 30, 35, 40], \n",
    "        'City': ['New York', 'San Francisco', 'Los Angeles', 'Chicago']} \n",
    "df = pd.DataFrame(data)"
   ]
  },
  {
   "cell_type": "code",
   "execution_count": 9,
   "id": "02d834be",
   "metadata": {},
   "outputs": [],
   "source": [
    "#Rename column names using function. \"First Name\" --> \"first_name\", \"Age\" --> \"age\n",
    "df=df.rename(columns={\"First Name\":\"first_name\", \"Age\":\"age\"})"
   ]
  },
  {
   "cell_type": "code",
   "execution_count": 10,
   "metadata": {},
   "outputs": [
    {
     "data": {
      "text/html": [
       "<div>\n",
       "<style scoped>\n",
       "    .dataframe tbody tr th:only-of-type {\n",
       "        vertical-align: middle;\n",
       "    }\n",
       "\n",
       "    .dataframe tbody tr th {\n",
       "        vertical-align: top;\n",
       "    }\n",
       "\n",
       "    .dataframe thead th {\n",
       "        text-align: right;\n",
       "    }\n",
       "</style>\n",
       "<table border=\"1\" class=\"dataframe\">\n",
       "  <thead>\n",
       "    <tr style=\"text-align: right;\">\n",
       "      <th></th>\n",
       "      <th>first_name</th>\n",
       "      <th>age</th>\n",
       "      <th>City</th>\n",
       "    </tr>\n",
       "  </thead>\n",
       "  <tbody>\n",
       "    <tr>\n",
       "      <th>0</th>\n",
       "      <td>Alice</td>\n",
       "      <td>25</td>\n",
       "      <td>New York</td>\n",
       "    </tr>\n",
       "    <tr>\n",
       "      <th>1</th>\n",
       "      <td>Bob</td>\n",
       "      <td>30</td>\n",
       "      <td>San Francisco</td>\n",
       "    </tr>\n",
       "    <tr>\n",
       "      <th>2</th>\n",
       "      <td>Charlie</td>\n",
       "      <td>35</td>\n",
       "      <td>Los Angeles</td>\n",
       "    </tr>\n",
       "  </tbody>\n",
       "</table>\n",
       "</div>"
      ],
      "text/plain": [
       "  first_name  age           City\n",
       "0      Alice   25       New York\n",
       "1        Bob   30  San Francisco\n",
       "2    Charlie   35    Los Angeles"
      ]
     },
     "execution_count": 10,
     "metadata": {},
     "output_type": "execute_result"
    }
   ],
   "source": [
    "#Print the first 3 rows of the DataFrame\n",
    "df.head(3)"
   ]
  },
  {
   "cell_type": "code",
   "execution_count": 13,
   "metadata": {},
   "outputs": [
    {
     "name": "stdout",
     "output_type": "stream",
     "text": [
      "32.5\n"
     ]
    }
   ],
   "source": [
    "#Find the mean age of the individuals\n",
    "mean_age = df['age'].mean()\n",
    "print(mean_age)"
   ]
  },
  {
   "cell_type": "code",
   "execution_count": 18,
   "metadata": {},
   "outputs": [
    {
     "name": "stdout",
     "output_type": "stream",
     "text": [
      "  first_name           City\n",
      "0      Alice       New York\n",
      "1        Bob  San Francisco\n",
      "2    Charlie    Los Angeles\n",
      "3      David        Chicago\n"
     ]
    }
   ],
   "source": [
    "#Select and print only the 'Name' and 'City' columns\n",
    "selected_columns=df[['first_name','City']]\n",
    "print(selected_columns)"
   ]
  },
  {
   "cell_type": "code",
   "execution_count": 21,
   "id": "f70538bb",
   "metadata": {},
   "outputs": [],
   "source": [
    "#Add a new column 'Salary' with random salary values\n",
    "import numpy as np\n",
    "df['Salary']=np.random.rand(4)"
   ]
  },
  {
   "cell_type": "code",
   "execution_count": 22,
   "metadata": {},
   "outputs": [
    {
     "name": "stdout",
     "output_type": "stream",
     "text": [
      "             age    Salary\n",
      "count   4.000000  4.000000\n",
      "mean   32.500000  0.579475\n",
      "std     6.454972  0.260874\n",
      "min    25.000000  0.223431\n",
      "25%    28.750000  0.500465\n",
      "50%    32.500000  0.623737\n",
      "75%    36.250000  0.702747\n",
      "max    40.000000  0.846996\n"
     ]
    }
   ],
   "source": [
    "#Display summary statistics of the DataFrame\n",
    "print(df.describe())\n"
   ]
  },
  {
   "cell_type": "code",
   "execution_count": 23,
   "id": "788cb322",
   "metadata": {},
   "outputs": [],
   "source": [
    "#2#Create a DataFrame named sales_and_expenses with columns 'Month', 'Sales', \n",
    "# and 'Expenses', representing monthly sales and expenses data. Use below table.\n",
    "sales_and_expenses =pd.DataFrame({'Month':['Jan','Feb','Mar','Apr'], 'Sales':[5000,6000,7500,8000], 'Expenses':[3000,3500,4000,4500]})\n",
    "\n"
   ]
  },
  {
   "cell_type": "code",
   "execution_count": 25,
   "id": "46121de0",
   "metadata": {},
   "outputs": [
    {
     "name": "stdout",
     "output_type": "stream",
     "text": [
      "Sales       8000\n",
      "Expenses    4500\n",
      "dtype: int64\n"
     ]
    }
   ],
   "source": [
    "#Calculate and display the maximum sales and expenses.\n",
    "print(sales_and_expenses[['Sales','Expenses']].max())"
   ]
  },
  {
   "cell_type": "code",
   "execution_count": 26,
   "id": "3838378a",
   "metadata": {},
   "outputs": [
    {
     "name": "stdout",
     "output_type": "stream",
     "text": [
      "Sales       5000\n",
      "Expenses    3000\n",
      "dtype: int64\n"
     ]
    }
   ],
   "source": [
    "#Calculate and display the minimum sales and expenses.\n",
    "print(sales_and_expenses[['Sales','Expenses']].min())"
   ]
  },
  {
   "cell_type": "code",
   "execution_count": 28,
   "id": "e33d4ed5",
   "metadata": {},
   "outputs": [
    {
     "name": "stdout",
     "output_type": "stream",
     "text": [
      "Sales       6625.0\n",
      "Expenses    3750.0\n",
      "dtype: float64\n"
     ]
    }
   ],
   "source": [
    "#Calculate and display the average sales and expenses.\n",
    "print(sales_and_expenses[['Sales','Expenses']].mean())"
   ]
  },
  {
   "cell_type": "code",
   "execution_count": 29,
   "metadata": {},
   "outputs": [],
   "source": [
    "#3#Create a DataFrame named expenses with columns \n",
    "# 'Category', 'January', 'February', 'March', and 'April', \n",
    "# representing monthly expenses for different categories. Use below table.\n",
    "expenses_with_columns =pd.DataFrame({'category':['Rent','Utilities','Groceries','Entertainment'], \n",
    "                                     'January':[1200,200,300,150],\n",
    "                                       'February':[1300,220,320,160],\n",
    "                                       'March':[1400,240,330,170],\n",
    "                                       'April':[1500,250,350,180]\n",
    "                                })\n"
   ]
  },
  {
   "cell_type": "code",
   "execution_count": 34,
   "id": "2823a061",
   "metadata": {},
   "outputs": [
    {
     "ename": "KeyError",
     "evalue": "\"None of ['Category'] are in the columns\"",
     "output_type": "error",
     "traceback": [
      "\u001b[31m---------------------------------------------------------------------------\u001b[39m",
      "\u001b[31mKeyError\u001b[39m                                  Traceback (most recent call last)",
      "\u001b[32m~\\AppData\\Local\\Temp\\ipykernel_3084\\591191408.py\u001b[39m in \u001b[36m?\u001b[39m\u001b[34m()\u001b[39m\n\u001b[32m      1\u001b[39m \u001b[38;5;66;03m#Calculate and display the maximum expense for each category.\u001b[39;00m\n\u001b[32m      2\u001b[39m expenses = expenses_with_columns\n\u001b[32m      3\u001b[39m \n\u001b[32m----> \u001b[39m\u001b[32m4\u001b[39m expenses.set_index(\u001b[33m'Category'\u001b[39m, inplace=\u001b[38;5;28;01mTrue\u001b[39;00m)\n\u001b[32m      5\u001b[39m \n\u001b[32m      6\u001b[39m \u001b[38;5;66;03m# Calculate and display the maximum expense for each category\u001b[39;00m\n\u001b[32m      7\u001b[39m max_expenses = expenses.max(axis=\u001b[32m1\u001b[39m)\n",
      "\u001b[32mc:\\Users\\Notix.uz\\AppData\\Local\\Programs\\Python\\Python311\\Lib\\site-packages\\pandas\\core\\frame.py\u001b[39m in \u001b[36m?\u001b[39m\u001b[34m(self, keys, drop, append, inplace, verify_integrity)\u001b[39m\n\u001b[32m   6118\u001b[39m                     \u001b[38;5;28;01mif\u001b[39;00m \u001b[38;5;28;01mnot\u001b[39;00m found:\n\u001b[32m   6119\u001b[39m                         missing.append(col)\n\u001b[32m   6120\u001b[39m \n\u001b[32m   6121\u001b[39m         \u001b[38;5;28;01mif\u001b[39;00m missing:\n\u001b[32m-> \u001b[39m\u001b[32m6122\u001b[39m             \u001b[38;5;28;01mraise\u001b[39;00m KeyError(\u001b[33mf\"None of {missing} are in the columns\"\u001b[39m)\n\u001b[32m   6123\u001b[39m \n\u001b[32m   6124\u001b[39m         \u001b[38;5;28;01mif\u001b[39;00m inplace:\n\u001b[32m   6125\u001b[39m             frame = self\n",
      "\u001b[31mKeyError\u001b[39m: \"None of ['Category'] are in the columns\""
     ]
    }
   ],
   "source": [
    "#Calculate and display the maximum expense for each category.\n",
    "expenses = expenses_with_columns\n",
    "\n",
    "expenses.set_index('Category', inplace=True)\n",
    "\n",
    "# Calculate and display the maximum expense for each category\n",
    "max_expenses = expenses.max(axis=1)"
   ]
  },
  {
   "cell_type": "code",
   "execution_count": 33,
   "id": "63990e52",
   "metadata": {},
   "outputs": [
    {
     "name": "stdout",
     "output_type": "stream",
     "text": [
      "Maximum expense for each category:\n",
      "Category\n",
      "Rent             1500\n",
      "Utilities         250\n",
      "Groceries         350\n",
      "Entertainment     180\n",
      "dtype: int64\n"
     ]
    }
   ],
   "source": [
    "\n",
    "# ✅ Step 1: Create the DataFrame\n",
    "data = {\n",
    "    'Category': ['Rent', 'Utilities', 'Groceries', 'Entertainment'],\n",
    "    'January': [1200, 200, 300, 150],\n",
    "    'February': [1300, 220, 320, 160],\n",
    "    'March': [1400, 240, 330, 170],\n",
    "    'April': [1500, 250, 350, 180]\n",
    "}\n",
    "\n",
    "expenses = pd.DataFrame(data)\n",
    "\n",
    "# ✅ Step 2: Set 'Category' as the index\n",
    "expenses.set_index('Category', inplace=True)\n",
    "\n",
    "# ✅ Step 3: Calculate and display the maximum expense for each category\n",
    "max_expenses = expenses.max(axis=1)\n",
    "\n",
    "print(\"Maximum expense for each category:\")\n",
    "print(max_expenses)"
   ]
  },
  {
   "cell_type": "code",
   "execution_count": 36,
   "id": "1c94531e",
   "metadata": {},
   "outputs": [
    {
     "name": "stdout",
     "output_type": "stream",
     "text": [
      "Minimum expense for each category:\n",
      "Category\n",
      "Rent             1200\n",
      "Utilities         200\n",
      "Groceries         300\n",
      "Entertainment     150\n",
      "dtype: int64\n"
     ]
    }
   ],
   "source": [
    "#Calculate and display the minimum expense for each category.\n",
    "data = {\n",
    "    'Category': ['Rent', 'Utilities', 'Groceries', 'Entertainment'],\n",
    "    'January': [1200, 200, 300, 150],\n",
    "    'February': [1300, 220, 320, 160],\n",
    "    'March': [1400, 240, 330, 170],\n",
    "    'April': [1500, 250, 350, 180]\n",
    "}\n",
    "\n",
    "expenses = pd.DataFrame(data)\n",
    "\n",
    "# ✅ Step 2: Set 'Category' as the index\n",
    "expenses.set_index('Category', inplace=True)\n",
    "\n",
    "min_expenses = expenses.min(axis=1)\n",
    "\n",
    "print(\"Minimum expense for each category:\")\n",
    "print(min_expenses)"
   ]
  },
  {
   "cell_type": "code",
   "execution_count": 37,
   "id": "de115be3",
   "metadata": {},
   "outputs": [
    {
     "name": "stdout",
     "output_type": "stream",
     "text": [
      "Category\n",
      "Rent             1350.0\n",
      "Utilities         227.5\n",
      "Groceries         325.0\n",
      "Entertainment     165.0\n",
      "dtype: float64\n"
     ]
    }
   ],
   "source": [
    "#Calculate and display the average expense for each category.\n",
    "data = {\n",
    "    'Category': ['Rent', 'Utilities', 'Groceries', 'Entertainment'],\n",
    "    'January': [1200, 200, 300, 150],\n",
    "    'February': [1300, 220, 320, 160],\n",
    "    'March': [1400, 240, 330, 170],\n",
    "    'April': [1500, 250, 350, 180]\n",
    "}\n",
    "\n",
    "expenses = pd.DataFrame(data)\n",
    "\n",
    "# ✅ Step 2: Set 'Category' as the index\n",
    "expenses.set_index('Category', inplace=True)\n",
    "\n",
    "mean_expenses = expenses.mean(axis=1)\n",
    "\n",
    "\n",
    "print(mean_expenses)"
   ]
  },
  {
   "cell_type": "code",
   "execution_count": null,
   "id": "c4003bdb",
   "metadata": {},
   "outputs": [],
   "source": []
  }
 ],
 "metadata": {
  "kernelspec": {
   "display_name": "Python 3",
   "language": "python",
   "name": "python3"
  },
  "language_info": {
   "codemirror_mode": {
    "name": "ipython",
    "version": 3
   },
   "file_extension": ".py",
   "mimetype": "text/x-python",
   "name": "python",
   "nbconvert_exporter": "python",
   "pygments_lexer": "ipython3",
   "version": "3.11.5"
  }
 },
 "nbformat": 4,
 "nbformat_minor": 5
}
