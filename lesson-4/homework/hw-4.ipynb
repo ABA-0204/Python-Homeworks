{
 "cells": [
  {
   "cell_type": "code",
   "execution_count": 3,
   "id": "736a38e6",
   "metadata": {},
   "outputs": [
    {
     "ename": "AttributeError",
     "evalue": "'dict_values' object has no attribute 'sorted'",
     "output_type": "error",
     "traceback": [
      "\u001b[31m---------------------------------------------------------------------------\u001b[39m",
      "\u001b[31mAttributeError\u001b[39m                            Traceback (most recent call last)",
      "\u001b[36mCell\u001b[39m\u001b[36m \u001b[39m\u001b[32mIn[3]\u001b[39m\u001b[32m, line 4\u001b[39m\n\u001b[32m      2\u001b[39m dictionary1={\u001b[33m'\u001b[39m\u001b[33menlish\u001b[39m\u001b[33m'\u001b[39m:\u001b[33m'\u001b[39m\u001b[33mlanguage\u001b[39m\u001b[33m'\u001b[39m, \u001b[33m'\u001b[39m\u001b[33mbiology\u001b[39m\u001b[33m'\u001b[39m:\u001b[33m'\u001b[39m\u001b[33mhumans\u001b[39m\u001b[33m'\u001b[39m, \u001b[33m'\u001b[39m\u001b[33mphysics\u001b[39m\u001b[33m'\u001b[39m:\u001b[33m'\u001b[39m\u001b[33melectricity\u001b[39m\u001b[33m'\u001b[39m}\n\u001b[32m      3\u001b[39m dict_values=dictionary1.values()\n\u001b[32m----> \u001b[39m\u001b[32m4\u001b[39m \u001b[43mdict_values\u001b[49m\u001b[43m.\u001b[49m\u001b[43msorted\u001b[49m(dict_values)\n",
      "\u001b[31mAttributeError\u001b[39m: 'dict_values' object has no attribute 'sorted'"
     ]
    }
   ],
   "source": [
    "#Write a Python script to sort (ascending and descending) a dictionary by value.\n",
    "dictionary1={'enlish':'language', 'biology':'humans', 'physics':'electricity'}\n",
    "dict_values=dictionary1.values()\n",
    "dict_values.sorted(dict_values)"
   ]
  },
  {
   "cell_type": "code",
   "execution_count": 13,
   "id": "a2f76821",
   "metadata": {},
   "outputs": [
    {
     "data": {
      "text/plain": [
       "{'enlish': 'language',\n",
       " 'biology': 'humans',\n",
       " 'physics': 'electricity',\n",
       " 'chemistry': 'oxygen'}"
      ]
     },
     "execution_count": 13,
     "metadata": {},
     "output_type": "execute_result"
    }
   ],
   "source": [
    "#Write a Python script to add a key to a dictionary.\n",
    "\n",
    "dictionary1.update([('chemistry','oxygen')])\n",
    "dictionary1"
   ]
  },
  {
   "cell_type": "code",
   "execution_count": 18,
   "id": "17a43b9f",
   "metadata": {},
   "outputs": [
    {
     "data": {
      "text/plain": [
       "{1: 10, 2: 20, 3: 30, 4: 40, 5: 50, 6: 60}"
      ]
     },
     "execution_count": 18,
     "metadata": {},
     "output_type": "execute_result"
    }
   ],
   "source": [
    "#Write a Python script to concatenate the following dictionaries to create a new one.\n",
    "dic1 = {1: 10, 2: 20}\n",
    "dic2 = {3: 30, 4: 40}\n",
    "dic3 = {5: 50, 6: 60}\n",
    "dic1.update(dic2)\n",
    "dic1.update(dic3)\n",
    "dic1"
   ]
  },
  {
   "cell_type": "code",
   "execution_count": 32,
   "id": "54dc5bf0",
   "metadata": {},
   "outputs": [
    {
     "name": "stdout",
     "output_type": "stream",
     "text": [
      "{0: 0}\n",
      "{0: 0, 1: 1}\n",
      "{0: 0, 1: 1, 2: 4}\n",
      "{0: 0, 1: 1, 2: 4, 3: 9}\n",
      "{0: 0, 1: 1, 2: 4, 3: 9, 4: 16}\n"
     ]
    }
   ],
   "source": [
    "#Write a Python script to generate and print a dictionary that contains a number (between 1 and n) in the form (x, x*x). \n",
    "dic5=dict()\n",
    "for     x in range(5):\n",
    "    dic5[x]=x*x\n",
    "    print(dic5)"
   ]
  },
  {
   "cell_type": "code",
   "execution_count": 37,
   "id": "d3ffaba5",
   "metadata": {},
   "outputs": [
    {
     "name": "stdout",
     "output_type": "stream",
     "text": [
      "{1: 1, 2: 4, 3: 9, 4: 16, 5: 25, 6: 36, 7: 49, 8: 64, 9: 81, 10: 100, 11: 121, 12: 144, 13: 169, 14: 196, 15: 225}\n"
     ]
    }
   ],
   "source": [
    "#Write a Python script to print a dictionary where the keys are numbers between 1 and 15 (both included) and the values are the square of the keys.\n",
    "dic6=dict()\n",
    "for x in range(1,16):\n",
    "    dic6[x]=x**2\n",
    "print(dic6)"
   ]
  },
  {
   "cell_type": "code",
   "execution_count": 39,
   "id": "e39c68a7",
   "metadata": {},
   "outputs": [
    {
     "data": {
      "text/plain": [
       "set"
      ]
     },
     "execution_count": 39,
     "metadata": {},
     "output_type": "execute_result"
    }
   ],
   "source": [
    "#Write a Python program to create a set.\n",
    "my_set = {'a', 12, 'b', 'b', 1}\n",
    "type(my_set)"
   ]
  },
  {
   "cell_type": "code",
   "execution_count": 40,
   "metadata": {},
   "outputs": [
    {
     "name": "stdout",
     "output_type": "stream",
     "text": [
      "e\n",
      "i\n",
      "n\n",
      "h\n",
      "u\n",
      "s\n"
     ]
    }
   ],
   "source": [
    "#Write a Python program to iterate over sets.\n",
    "my_set = set(\"sunshine\")\n",
    "\n",
    "for i in iter(my_set):\n",
    "    print(i)\n"
   ]
  },
  {
   "cell_type": "code",
   "execution_count": 43,
   "id": "6176b661",
   "metadata": {},
   "outputs": [
    {
     "name": "stdout",
     "output_type": "stream",
     "text": [
      "{'e', 'i', 'n', 'h', 'u', 's', 'wonderful'}\n"
     ]
    }
   ],
   "source": [
    "#Write a Python program to add member(s) to a set.\n",
    "my_set.update(['wonderful'])\n",
    "print(my_set)"
   ]
  },
  {
   "cell_type": "code",
   "execution_count": 47,
   "id": "6db17208",
   "metadata": {},
   "outputs": [
    {
     "name": "stdout",
     "output_type": "stream",
     "text": [
      "{'i', 'n', 'u', 's', 'wonderful'}\n"
     ]
    }
   ],
   "source": [
    "#Write a Python program to remove item(s) from a given set.\n",
    "my_set.remove('e')\n",
    "print(my_set)"
   ]
  },
  {
   "cell_type": "code",
   "execution_count": 49,
   "metadata": {},
   "outputs": [
    {
     "ename": "TypeError",
     "evalue": "set.remove() takes exactly one argument (2 given)",
     "output_type": "error",
     "traceback": [
      "\u001b[31m---------------------------------------------------------------------------\u001b[39m",
      "\u001b[31mTypeError\u001b[39m                                 Traceback (most recent call last)",
      "\u001b[36mCell\u001b[39m\u001b[36m \u001b[39m\u001b[32mIn[49]\u001b[39m\u001b[32m, line 2\u001b[39m\n\u001b[32m      1\u001b[39m \u001b[38;5;66;03m#Write a Python program to remove an item from a set if it is present in the set.\u001b[39;00m\n\u001b[32m----> \u001b[39m\u001b[32m2\u001b[39m \u001b[43mmy_set\u001b[49m\u001b[43m.\u001b[49m\u001b[43mremove\u001b[49m\u001b[43m(\u001b[49m\u001b[33;43m'\u001b[39;49m\u001b[33;43me\u001b[39;49m\u001b[33;43m'\u001b[39;49m\u001b[43m,\u001b[49m\u001b[33;43m'\u001b[39;49m\u001b[33;43mnot founded\u001b[39;49m\u001b[33;43m'\u001b[39;49m\u001b[43m)\u001b[49m\n",
      "\u001b[31mTypeError\u001b[39m: set.remove() takes exactly one argument (2 given)"
     ]
    }
   ],
   "source": [
    "#Write a Python program to remove an item from a set if it is present in the set.\n",
    "my_set.remove('e','not founded')\n"
   ]
  },
  {
   "cell_type": "code",
   "execution_count": null,
   "id": "c511ca05",
   "metadata": {},
   "outputs": [],
   "source": []
  },
  {
   "cell_type": "code",
   "execution_count": null,
   "id": "a59f4b88",
   "metadata": {},
   "outputs": [],
   "source": []
  },
  {
   "cell_type": "code",
   "execution_count": null,
   "id": "78336912",
   "metadata": {},
   "outputs": [],
   "source": []
  },
  {
   "cell_type": "code",
   "execution_count": null,
   "id": "7c4ccc36",
   "metadata": {},
   "outputs": [],
   "source": []
  },
  {
   "cell_type": "code",
   "execution_count": null,
   "id": "597b0119",
   "metadata": {},
   "outputs": [],
   "source": []
  },
  {
   "cell_type": "code",
   "execution_count": null,
   "id": "2f283b2a",
   "metadata": {},
   "outputs": [],
   "source": []
  },
  {
   "cell_type": "code",
   "execution_count": null,
   "id": "81e605dd",
   "metadata": {},
   "outputs": [],
   "source": []
  },
  {
   "cell_type": "code",
   "execution_count": null,
   "id": "a2e38ff9",
   "metadata": {},
   "outputs": [],
   "source": []
  },
  {
   "cell_type": "markdown",
   "id": "35cfec2a",
   "metadata": {},
   "source": [
    "####dictionaries and set\n"
   ]
  }
 ],
 "metadata": {
  "kernelspec": {
   "display_name": "Python 3",
   "language": "python",
   "name": "python3"
  },
  "language_info": {
   "codemirror_mode": {
    "name": "ipython",
    "version": 3
   },
   "file_extension": ".py",
   "mimetype": "text/x-python",
   "name": "python",
   "nbconvert_exporter": "python",
   "pygments_lexer": "ipython3",
   "version": "3.12.9"
  }
 },
 "nbformat": 4,
 "nbformat_minor": 5
}
