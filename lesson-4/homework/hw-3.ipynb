{
 "cells": [
  {
   "cell_type": "markdown",
   "id": "a7097c81",
   "metadata": {},
   "source": [
    "###list and tuple\n"
   ]
  },
  {
   "cell_type": "code",
   "execution_count": 7,
   "id": "c2a414f6",
   "metadata": {},
   "outputs": [
    {
     "data": {
      "text/plain": [
       "['pear']"
      ]
     },
     "execution_count": 7,
     "metadata": {},
     "output_type": "execute_result"
    }
   ],
   "source": [
    "#Create a list containing five different fruits and print the third fruit.\n",
    "fruits=['pineapple','orange','grape','pear','kiwi']\n",
    "fruits[3:4:]\n"
   ]
  },
  {
   "cell_type": "code",
   "execution_count": 8,
   "id": "8cc9fdbc",
   "metadata": {},
   "outputs": [
    {
     "data": {
      "text/plain": [
       "[1, 3, 5, 7, 2, 4, 6, 8]"
      ]
     },
     "execution_count": 8,
     "metadata": {},
     "output_type": "execute_result"
    }
   ],
   "source": [
    "#Create two lists of numbers and concatenate them into a single list.\n",
    "list_1=[1,3,5,7]\n",
    "list_2=[2,4,6,8]\n",
    "list_1+list_2\n"
   ]
  },
  {
   "cell_type": "code",
   "execution_count": null,
   "id": "2a36a432",
   "metadata": {},
   "outputs": [
    {
     "data": {
      "text/plain": [
       "[[1, 4, 6]]"
      ]
     },
     "execution_count": 14,
     "metadata": {},
     "output_type": "execute_result"
    }
   ],
   "source": [
    "#Given a list of numbers, extract the first, middle, and last elements and store them in a new list.\n",
    "list1=[1,2,3,4,5,6]\n",
    "newlist=[list1[0:1:]+list1[3:4:]+list1[-1::]]\n",
    "newlist"
   ]
  },
  {
   "cell_type": "code",
   "execution_count": 17,
   "id": "076b12f4",
   "metadata": {},
   "outputs": [
    {
     "data": {
      "text/plain": [
       "tuple"
      ]
     },
     "execution_count": 17,
     "metadata": {},
     "output_type": "execute_result"
    }
   ],
   "source": [
    "#Create a list of your five favorite movies and convert it into a tuple.\n",
    "movies=['devil wears prada','1+1','spring summer fall winter... and spring']\n",
    "my_tuple=tuple(movies)\n",
    "type(my_tuple)"
   ]
  },
  {
   "cell_type": "code",
   "execution_count": 18,
   "id": "d117826d",
   "metadata": {},
   "outputs": [
    {
     "name": "stdout",
     "output_type": "stream",
     "text": [
      "no\n"
     ]
    }
   ],
   "source": [
    "#Given a list of cities, check if \"Paris\" is in the list and print the result.\n",
    "cities=['London','NYC','Seoul','Moscow']\n",
    "if 'Paris' in cities:\n",
    "    print('yes')\n",
    "else:\n",
    "    print('no')\n"
   ]
  },
  {
   "cell_type": "code",
   "execution_count": 20,
   "id": "2b8ad5c0",
   "metadata": {},
   "outputs": [
    {
     "name": "stdout",
     "output_type": "stream",
     "text": [
      "[1, 2, 3, 4, 5]\n"
     ]
    }
   ],
   "source": [
    "#Create a list of numbers and duplicate it without using loops.\n",
    "numbers=[1,2,3,4,5]\n",
    "numberscopy=numbers.copy()\n",
    "print(numberscopy)"
   ]
  },
  {
   "cell_type": "code",
   "execution_count": 22,
   "id": "5e1b4ef9",
   "metadata": {},
   "outputs": [
    {
     "name": "stdout",
     "output_type": "stream",
     "text": [
      "['new first value', 2, 3, 4, 'new last value']\n"
     ]
    }
   ],
   "source": [
    "#Given a list of numbers, swap the first and last elements.\n",
    "numbers=[1,2,3,4,5]\n",
    "numbers[0]='new first value'\n",
    "numbers[-1]='new last value'\n",
    "print(numbers)"
   ]
  },
  {
   "cell_type": "code",
   "execution_count": 24,
   "id": "e7226648",
   "metadata": {},
   "outputs": [
    {
     "name": "stdout",
     "output_type": "stream",
     "text": [
      "(4, 5, 6, 7)\n"
     ]
    }
   ],
   "source": [
    "#Create a tuple of numbers from 1 to 10 and print a slice from index 3 to 7.\n",
    "numbers_t=1,2,3,4,5,6,7,8,9,10\n",
    "print(numbers_t[3:7:])"
   ]
  },
  {
   "cell_type": "code",
   "execution_count": 25,
   "id": "a3af443a",
   "metadata": {},
   "outputs": [
    {
     "data": {
      "text/plain": [
       "1"
      ]
     },
     "execution_count": 25,
     "metadata": {},
     "output_type": "execute_result"
    }
   ],
   "source": [
    "#Create a list of colors and count how many times \"blue\" appears in the list.\n",
    "colors=['white','blue','black']\n",
    "colors.count('blue')\n"
   ]
  },
  {
   "cell_type": "code",
   "execution_count": 26,
   "id": "76bdc6e3",
   "metadata": {},
   "outputs": [
    {
     "data": {
      "text/plain": [
       "0"
      ]
     },
     "execution_count": 26,
     "metadata": {},
     "output_type": "execute_result"
    }
   ],
   "source": [
    "#Given a tuple of animals, find the index of \"lion\".\n",
    "animals='lion','cat','dog'\n",
    "animals.index('lion')"
   ]
  },
  {
   "cell_type": "code",
   "execution_count": 27,
   "id": "bd945dae",
   "metadata": {},
   "outputs": [
    {
     "data": {
      "text/plain": [
       "(1, 3, 5, 7, 9, 2, 4, 6, 8, 10)"
      ]
     },
     "execution_count": 27,
     "metadata": {},
     "output_type": "execute_result"
    }
   ],
   "source": [
    "#Create two tuples of numbers and merge them into a single tuple.\n",
    "tuple1=1,3,5,7,9\n",
    "tuple2=2,4,6,8,10\n",
    "tuple1+tuple2\n"
   ]
  },
  {
   "cell_type": "code",
   "execution_count": 30,
   "id": "0a998de0",
   "metadata": {},
   "outputs": [
    {
     "data": {
      "text/plain": [
       "5"
      ]
     },
     "execution_count": 30,
     "metadata": {},
     "output_type": "execute_result"
    }
   ],
   "source": [
    "#Given a list and a tuple, find and print their lengths.\n",
    "len(list1)\n",
    "len(tuple2)"
   ]
  },
  {
   "cell_type": "code",
   "execution_count": 31,
   "id": "3467b251",
   "metadata": {},
   "outputs": [
    {
     "data": {
      "text/plain": [
       "list"
      ]
     },
     "execution_count": 31,
     "metadata": {},
     "output_type": "execute_result"
    }
   ],
   "source": [
    "#Create a tuple of five numbers and convert it into a list.\n",
    "numbers_5=12,23,34,45,56\n",
    "list_5=list(numbers_5)\n",
    "type(list_5)\n"
   ]
  },
  {
   "cell_type": "code",
   "execution_count": 34,
   "id": "11b97955",
   "metadata": {},
   "outputs": [
    {
     "data": {
      "text/plain": [
       "12"
      ]
     },
     "execution_count": 34,
     "metadata": {},
     "output_type": "execute_result"
    }
   ],
   "source": [
    "#Given a tuple of numbers, find and print the maximum and minimum values.\n",
    "max(numbers_5)\n",
    "min(numbers_5)"
   ]
  },
  {
   "cell_type": "code",
   "execution_count": 35,
   "id": "64aeaa02",
   "metadata": {},
   "outputs": [
    {
     "data": {
      "text/plain": [
       "('team', 'heart', 'luck', 'life')"
      ]
     },
     "execution_count": 35,
     "metadata": {},
     "output_type": "execute_result"
    }
   ],
   "source": [
    "#Create a tuple of words and print it in reverse order.\n",
    "words='life','luck','heart','team'\n",
    "words[::-1]"
   ]
  },
  {
   "cell_type": "code",
   "execution_count": null,
   "id": "b3655735",
   "metadata": {},
   "outputs": [],
   "source": []
  },
  {
   "cell_type": "code",
   "execution_count": null,
   "id": "cbe01403",
   "metadata": {},
   "outputs": [],
   "source": []
  },
  {
   "cell_type": "code",
   "execution_count": null,
   "id": "fd129e2d",
   "metadata": {},
   "outputs": [],
   "source": []
  },
  {
   "cell_type": "code",
   "execution_count": null,
   "id": "a486ce01",
   "metadata": {},
   "outputs": [],
   "source": []
  },
  {
   "cell_type": "code",
   "execution_count": null,
   "id": "f482a207",
   "metadata": {},
   "outputs": [],
   "source": []
  }
 ],
 "metadata": {
  "kernelspec": {
   "display_name": "Python 3",
   "language": "python",
   "name": "python3"
  },
  "language_info": {
   "codemirror_mode": {
    "name": "ipython",
    "version": 3
   },
   "file_extension": ".py",
   "mimetype": "text/x-python",
   "name": "python",
   "nbconvert_exporter": "python",
   "pygments_lexer": "ipython3",
   "version": "3.12.9"
  }
 },
 "nbformat": 4,
 "nbformat_minor": 5
}
