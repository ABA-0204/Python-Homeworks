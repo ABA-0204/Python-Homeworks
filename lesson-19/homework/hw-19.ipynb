{
 "cells": [
  {
   "cell_type": "code",
   "execution_count": 13,
   "id": "338754b4",
   "metadata": {},
   "outputs": [
    {
     "data": {
      "text/html": [
       "<div>\n",
       "<style scoped>\n",
       "    .dataframe tbody tr th:only-of-type {\n",
       "        vertical-align: middle;\n",
       "    }\n",
       "\n",
       "    .dataframe tbody tr th {\n",
       "        vertical-align: top;\n",
       "    }\n",
       "\n",
       "    .dataframe thead th {\n",
       "        text-align: right;\n",
       "    }\n",
       "</style>\n",
       "<table border=\"1\" class=\"dataframe\">\n",
       "  <thead>\n",
       "    <tr style=\"text-align: right;\">\n",
       "      <th></th>\n",
       "      <th>Date</th>\n",
       "      <th>Product</th>\n",
       "      <th>Category</th>\n",
       "      <th>Quantity</th>\n",
       "      <th>Price</th>\n",
       "    </tr>\n",
       "  </thead>\n",
       "  <tbody>\n",
       "    <tr>\n",
       "      <th>0</th>\n",
       "      <td>2023-01-01</td>\n",
       "      <td>Laptop</td>\n",
       "      <td>Electronics</td>\n",
       "      <td>10</td>\n",
       "      <td>800</td>\n",
       "    </tr>\n",
       "    <tr>\n",
       "      <th>1</th>\n",
       "      <td>2023-01-01</td>\n",
       "      <td>T-Shirt</td>\n",
       "      <td>Clothing</td>\n",
       "      <td>5</td>\n",
       "      <td>20</td>\n",
       "    </tr>\n",
       "    <tr>\n",
       "      <th>2</th>\n",
       "      <td>2023-01-02</td>\n",
       "      <td>Smartphone</td>\n",
       "      <td>Electronics</td>\n",
       "      <td>8</td>\n",
       "      <td>400</td>\n",
       "    </tr>\n",
       "    <tr>\n",
       "      <th>3</th>\n",
       "      <td>2023-01-02</td>\n",
       "      <td>Coffee Maker</td>\n",
       "      <td>Home</td>\n",
       "      <td>12</td>\n",
       "      <td>50</td>\n",
       "    </tr>\n",
       "    <tr>\n",
       "      <th>4</th>\n",
       "      <td>2023-01-03</td>\n",
       "      <td>Jeans</td>\n",
       "      <td>Clothing</td>\n",
       "      <td>15</td>\n",
       "      <td>30</td>\n",
       "    </tr>\n",
       "  </tbody>\n",
       "</table>\n",
       "</div>"
      ],
      "text/plain": [
       "         Date       Product     Category  Quantity  Price\n",
       "0  2023-01-01        Laptop  Electronics        10    800\n",
       "1  2023-01-01       T-Shirt     Clothing         5     20\n",
       "2  2023-01-02    Smartphone  Electronics         8    400\n",
       "3  2023-01-02  Coffee Maker         Home        12     50\n",
       "4  2023-01-03         Jeans     Clothing        15     30"
      ]
     },
     "execution_count": 13,
     "metadata": {},
     "output_type": "execute_result"
    }
   ],
   "source": [
    "import pandas as pd\n",
    "\n",
    "sales_df = pd.read_csv(\"C:\\\\Users\\\\Notix.uz\\\\Desktop\\\\Python2\\\\task\\\\sales_data.csv\")\n",
    "sales_df.head()"
   ]
  },
  {
   "cell_type": "code",
   "execution_count": 7,
   "id": "8361cd1f",
   "metadata": {},
   "outputs": [
    {
     "data": {
      "text/plain": [
       "Category\n",
       "Clothing       157\n",
       "Electronics    183\n",
       "Home           144\n",
       "Name: Quantity, dtype: int64"
      ]
     },
     "execution_count": 7,
     "metadata": {},
     "output_type": "execute_result"
    }
   ],
   "source": [
    "#Total quantity sold.\n",
    "sales_df.groupby('Category')['Quantity'].agg('sum')"
   ]
  },
  {
   "cell_type": "code",
   "execution_count": 9,
   "metadata": {},
   "outputs": [
    {
     "data": {
      "text/plain": [
       "Category\n",
       "Clothing        31.176471\n",
       "Electronics    276.764706\n",
       "Home            55.000000\n",
       "Name: Price, dtype: float64"
      ]
     },
     "execution_count": 9,
     "metadata": {},
     "output_type": "execute_result"
    }
   ],
   "source": [
    "#Average price per unit.\n",
    "sales_df.groupby('Category')['Price'].agg('mean')"
   ]
  },
  {
   "cell_type": "code",
   "execution_count": 12,
   "id": "c7e7245d",
   "metadata": {},
   "outputs": [
    {
     "name": "stdout",
     "output_type": "stream",
     "text": [
      "Category\n",
      "Clothing       15\n",
      "Electronics    15\n",
      "Home           14\n",
      "Name: Quantity, dtype: int64\n"
     ]
    }
   ],
   "source": [
    "max_quantity_per_category = sales_df.groupby('Category')['Quantity'].agg('max')\n",
    "print(max_quantity_per_category)\n"
   ]
  },
  {
   "cell_type": "code",
   "execution_count": null,
   "id": "6bb2e918",
   "metadata": {},
   "outputs": [
    {
     "name": "stdout",
     "output_type": "stream",
     "text": [
      "       Category                 Product  Quantity\n",
      "0      Clothing                Backpack        14\n",
      "1      Clothing             Cargo Pants        11\n",
      "2      Clothing            Casual Shoes         6\n",
      "3      Clothing            Denim Jacket        13\n",
      "4      Clothing             Denim Skirt         8\n",
      "5      Clothing             Dress Shirt         8\n",
      "6      Clothing            Formal Shirt         8\n",
      "7      Clothing                  Hoodie         6\n",
      "8      Clothing                   Jeans        15\n",
      "9      Clothing                Sneakers        10\n",
      "10     Clothing             Sport Shoes        12\n",
      "11     Clothing            Summer Dress         9\n",
      "12     Clothing              Sunglasses        11\n",
      "13     Clothing                 Sweater         7\n",
      "14     Clothing              Sweatpants         7\n",
      "15     Clothing              Sweatshirt         7\n",
      "16     Clothing                 T-Shirt         5\n",
      "17  Electronics              4K Monitor         9\n",
      "18  Electronics       Bluetooth Headset         7\n",
      "19  Electronics                   Drone        10\n",
      "20  Electronics     External Hard Drive         9\n",
      "21  Electronics         Fitness Tracker         9\n",
      "22  Electronics          Gaming Console        14\n",
      "23  Electronics              Headphones        10\n",
      "24  Electronics                  Laptop        10\n",
      "25  Electronics  Point-and-Shoot Camera         8\n",
      "26  Electronics               Projector        13\n",
      "27  Electronics                Smart TV        15\n",
      "28  Electronics              Smartphone         8\n",
      "29  Electronics                Soundbar        15\n",
      "30  Electronics                  Tablet        12\n",
      "31  Electronics        Wireless Earbuds        11\n",
      "32  Electronics          Wireless Mouse        11\n",
      "33  Electronics        Wireless Speaker        12\n",
      "34         Home            Air Purifier         7\n",
      "35         Home            Bedside Lamp        10\n",
      "36         Home                 Blender         6\n",
      "37         Home          Blu-ray Player         9\n",
      "38         Home               Bookshelf        13\n",
      "39         Home            Coffee Maker        12\n",
      "40         Home            Coffee Table         8\n",
      "41         Home           Comforter Set         7\n",
      "42         Home            Cookware Set        10\n",
      "43         Home              Desk Chair         6\n",
      "44         Home               Desk Lamp         6\n",
      "45         Home           Kitchen Scale        12\n",
      "46         Home         Pressure Cooker        14\n",
      "47         Home              Steam Iron        11\n",
      "48         Home                 Toaster         8\n",
      "49         Home          Vacuum Cleaner         5\n"
     ]
    }
   ],
   "source": [
    "#Identify the top-selling product in each category based on the total quantity sold.\n",
    "# First, find the total quantity sold per product within each category\n",
    "product_sales = sales_df.groupby(['Category', 'Product'])['Quantity'].sum().reset_index()\n",
    "\n",
    "# Then, get the top-selling product per category\n",
    "top_selling_product = product_sales.loc[product_sales.groupby('Category')['Quantity'].idxmax()]\n",
    "\n",
    "print (product_sales)\n",
    "\n"
   ]
  },
  {
   "cell_type": "code",
   "execution_count": 25,
   "id": "3153c104",
   "metadata": {},
   "outputs": [
    {
     "name": "stdout",
     "output_type": "stream",
     "text": [
      "Date          2023-01-07\n",
      "TotalSales         15150\n",
      "Name: 6, dtype: object\n"
     ]
    }
   ],
   "source": [
    "#Find the date on which the highest total sales (quantity * price) occurred.\n",
    "# Step 1: Calculate the sales amount for each row\n",
    "sales_df['TotalSales'] = sales_df['Quantity'] * sales_df['Price']\n",
    "\n",
    "# Step 2: Group by date and sum the total sales per day\n",
    "daily_sales = sales_df.groupby('Date')['TotalSales'].sum().reset_index()\n",
    "\n",
    "# Step 3: Find the date with the highest total sales\n",
    "max_sales_date = daily_sales.loc[daily_sales['TotalSales'].idxmax()]\n",
    "print(max_sales_date)"
   ]
  },
  {
   "cell_type": "code",
   "execution_count": 27,
   "metadata": {},
   "outputs": [
    {
     "data": {
      "text/html": [
       "<div>\n",
       "<style scoped>\n",
       "    .dataframe tbody tr th:only-of-type {\n",
       "        vertical-align: middle;\n",
       "    }\n",
       "\n",
       "    .dataframe tbody tr th {\n",
       "        vertical-align: top;\n",
       "    }\n",
       "\n",
       "    .dataframe thead th {\n",
       "        text-align: right;\n",
       "    }\n",
       "</style>\n",
       "<table border=\"1\" class=\"dataframe\">\n",
       "  <thead>\n",
       "    <tr style=\"text-align: right;\">\n",
       "      <th></th>\n",
       "      <th>OrderID</th>\n",
       "      <th>CustomerID</th>\n",
       "      <th>Product</th>\n",
       "      <th>Quantity</th>\n",
       "      <th>Price</th>\n",
       "    </tr>\n",
       "  </thead>\n",
       "  <tbody>\n",
       "    <tr>\n",
       "      <th>0</th>\n",
       "      <td>1</td>\n",
       "      <td>101</td>\n",
       "      <td>Laptop</td>\n",
       "      <td>2</td>\n",
       "      <td>800</td>\n",
       "    </tr>\n",
       "    <tr>\n",
       "      <th>1</th>\n",
       "      <td>2</td>\n",
       "      <td>102</td>\n",
       "      <td>Headphones</td>\n",
       "      <td>1</td>\n",
       "      <td>150</td>\n",
       "    </tr>\n",
       "    <tr>\n",
       "      <th>2</th>\n",
       "      <td>3</td>\n",
       "      <td>103</td>\n",
       "      <td>Smartphone</td>\n",
       "      <td>3</td>\n",
       "      <td>400</td>\n",
       "    </tr>\n",
       "    <tr>\n",
       "      <th>3</th>\n",
       "      <td>4</td>\n",
       "      <td>101</td>\n",
       "      <td>External Hard Drive</td>\n",
       "      <td>2</td>\n",
       "      <td>80</td>\n",
       "    </tr>\n",
       "    <tr>\n",
       "      <th>4</th>\n",
       "      <td>5</td>\n",
       "      <td>102</td>\n",
       "      <td>Backpack</td>\n",
       "      <td>1</td>\n",
       "      <td>40</td>\n",
       "    </tr>\n",
       "  </tbody>\n",
       "</table>\n",
       "</div>"
      ],
      "text/plain": [
       "   OrderID  CustomerID              Product  Quantity  Price\n",
       "0        1         101               Laptop         2    800\n",
       "1        2         102           Headphones         1    150\n",
       "2        3         103           Smartphone         3    400\n",
       "3        4         101  External Hard Drive         2     80\n",
       "4        5         102             Backpack         1     40"
      ]
     },
     "execution_count": 27,
     "metadata": {},
     "output_type": "execute_result"
    }
   ],
   "source": [
    "customer_df = pd.read_csv(\"C:\\\\Users\\\\Notix.uz\\\\Desktop\\\\Python2\\\\task\\\\customer_orders.csv\")\n",
    "customer_df.head()\n",
    "\n"
   ]
  },
  {
   "cell_type": "code",
   "execution_count": 36,
   "id": "f104c8d3",
   "metadata": {},
   "outputs": [
    {
     "name": "stdout",
     "output_type": "stream",
     "text": [
      "   CustomerID  OrderCount\n",
      "0         101          21\n",
      "1         102          21\n",
      "2         103          20\n",
      "3         104          20\n",
      "4         105          18\n",
      "   CustomerID  OrderCount\n",
      "4         105          18\n"
     ]
    }
   ],
   "source": [
    "#Group the data by CustomerID and filter out customers who have made less than 20 orders.\n",
    "# Step 1: Count the number of orders per CustomerID\n",
    "order_counts = customer_df.groupby('CustomerID').size().reset_index(name='OrderCount')\n",
    "print (order_counts)\n",
    "# Step 2: Filter customers with fewer than 20 orders\n",
    "customers_less20 = order_counts[order_counts['OrderCount'] < 20]\n",
    "\n",
    "print(customers_less20)\n",
    "\n"
   ]
  },
  {
   "cell_type": "code",
   "execution_count": 43,
   "id": "7c4b8622",
   "metadata": {},
   "outputs": [
    {
     "name": "stdout",
     "output_type": "stream",
     "text": [
      "    CustomerID                 Product  avgprice\n",
      "8          101          Gaming Console     400.0\n",
      "9          101                  Laptop     800.0\n",
      "10         101  Point-and-Shoot Camera     250.0\n",
      "23         102                   Drone     300.0\n",
      "26         102          Gaming Console     400.0\n",
      "27         102              Headphones     150.0\n",
      "29         102                Smart TV    1000.0\n",
      "30         102              Smartphone     400.0\n",
      "44         103              Smartphone     400.0\n",
      "57         104          Gaming Console     400.0\n",
      "61         104                Smart TV    1000.0\n",
      "66         104                  Tablet     300.0\n",
      "73         105                   Drone     300.0\n",
      "76         105  Point-and-Shoot Camera     250.0\n",
      "77         105               Projector     200.0\n"
     ]
    }
   ],
   "source": [
    "#Identify customers who have ordered products with an average price per unit greater than $120.\n",
    "avg_price=customer_df.groupby(['CustomerID','Product'])['Price'].agg('mean').reset_index(name='avgprice')\n",
    "#print(avg_price)\n",
    "\n",
    "cust_avg_price=avg_price[avg_price['avgprice']>120]\n",
    "print (cust_avg_price)"
   ]
  },
  {
   "cell_type": "code",
   "execution_count": 49,
   "id": "dc92e690",
   "metadata": {},
   "outputs": [
    {
     "name": "stdout",
     "output_type": "stream",
     "text": [
      "                        TotalQuantity  TotalSales\n",
      "Product                                          \n",
      "Backpack                            4         160\n",
      "Blender                             4         240\n",
      "Blu-ray Player                      2         140\n",
      "Bluetooth Headset                   2         100\n",
      "Bookshelf                           2         160\n",
      "Casual Shoes                        3          90\n",
      "Coffee Maker                        3         150\n",
      "Coffee Table                        3         300\n",
      "Comforter Set                       3         135\n",
      "Cookware Set                        1          60\n",
      "Denim Jacket                        2          90\n",
      "Denim Skirt                         1          25\n",
      "Desk Chair                          2         150\n",
      "Desk Lamp                           2          50\n",
      "Drone                               2         600\n",
      "External Hard Drive                 3         240\n",
      "Fitness Tracker                     3         180\n",
      "Formal Shoes                        3         180\n",
      "Gaming Console                      3        1200\n",
      "Headphones                          1         150\n",
      "Hoodie                              2          50\n",
      "Jeans                               3          90\n",
      "Kitchen Scale                       1          20\n",
      "Laptop                              2        1600\n",
      "Point-and-Shoot Camera              2         500\n",
      "Projector                           2         400\n",
      "Smart TV                            3        3000\n",
      "Sneakers                            3         150\n",
      "Steam Iron                          3          90\n",
      "Summer Dress                        3          90\n",
      "Sweater                             3         105\n",
      "Sweatshirt                          2          70\n",
      "Tablet                              2         600\n",
      "Toaster                             3          75\n",
      "Wireless Charger                    2          70\n",
      "Wireless Mouse                      3          75\n",
      "Wireless Speaker                    2         140\n"
     ]
    }
   ],
   "source": [
    "#Find the total quantity and total price for each product ordered, and filter out products that have a total quantity less than 5 units.\n",
    "# Step 1: Calculate total quantity and total sales per product\n",
    "ttl = customer_df.groupby('Product').agg(\n",
    "    TotalQuantity=('Quantity', 'sum'),\n",
    "    TotalSales=('Price', lambda x: (x * customer_df.loc[x.index, 'Quantity']).sum())\n",
    ")\n",
    "\n",
    "# Step 2: Filter out products with total quantity less than 5\n",
    "less5 = ttl[ttl['TotalQuantity'] < 5]\n",
    "\n",
    "# View the result\n",
    "print (less5)"
   ]
  },
  {
   "cell_type": "code",
   "execution_count": null,
   "id": "c40b38d8",
   "metadata": {},
   "outputs": [],
   "source": []
  },
  {
   "cell_type": "code",
   "execution_count": null,
   "id": "4ce13cde",
   "metadata": {},
   "outputs": [],
   "source": []
  },
  {
   "cell_type": "code",
   "execution_count": null,
   "id": "eb39f000",
   "metadata": {},
   "outputs": [],
   "source": []
  }
 ],
 "metadata": {
  "kernelspec": {
   "display_name": "Python 3",
   "language": "python",
   "name": "python3"
  },
  "language_info": {
   "codemirror_mode": {
    "name": "ipython",
    "version": 3
   },
   "file_extension": ".py",
   "mimetype": "text/x-python",
   "name": "python",
   "nbconvert_exporter": "python",
   "pygments_lexer": "ipython3",
   "version": "3.11.5"
  }
 },
 "nbformat": 4,
 "nbformat_minor": 5
}
