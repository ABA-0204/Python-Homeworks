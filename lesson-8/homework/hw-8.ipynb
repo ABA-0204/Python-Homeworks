{
 "cells": [
  {
   "cell_type": "code",
   "execution_count": 1,
   "id": "3fbfa580",
   "metadata": {},
   "outputs": [],
   "source": [
    "#Write a Python program to handle a ZeroDivisionError exception when dividing a number by zero.\n",
    "def dividing_by_zero(x, y):\n",
    "    try:\n",
    "        result = x / y\n",
    "        print('Result:', result)\n",
    "    except ZeroDivisionError:\n",
    "        print('Division by zero is not allowed')\n"
   ]
  },
  {
   "cell_type": "code",
   "execution_count": 2,
   "metadata": {},
   "outputs": [
    {
     "name": "stdout",
     "output_type": "stream",
     "text": [
      "Division by zero is not allowed\n"
     ]
    }
   ],
   "source": [
    "dividing_by_zero(9,0)"
   ]
  },
  {
   "cell_type": "code",
   "execution_count": 3,
   "metadata": {},
   "outputs": [],
   "source": [
    "#Write a Python program that prompts the user to input an integer and raises a ValueError exception if the input is not a valid integer.\n",
    "def integer_input(prompt):\n",
    "    try:\n",
    "        value = int(input('insert any int'))\n",
    "        return value\n",
    "    except ValueError:\n",
    "        print('the input int is not valid')\n"
   ]
  },
  {
   "cell_type": "code",
   "execution_count": 5,
   "metadata": {},
   "outputs": [
    {
     "name": "stdout",
     "output_type": "stream",
     "text": [
      "the input int is not valid\n"
     ]
    }
   ],
   "source": [
    "integer_input(0.8)\n"
   ]
  },
  {
   "cell_type": "code",
   "execution_count": 6,
   "metadata": {},
   "outputs": [],
   "source": [
    "#Write a Python program that opens a file and handles a FileNotFoundError exception if the file does not exist.\n",
    "def open_file(filename):\n",
    "    try:\n",
    "        file = open(filename, 'r')\n",
    "        print('file is opened')\n",
    "    except FileNotFoundError:\n",
    "        print('file is not founded')\n"
   ]
  },
  {
   "cell_type": "code",
   "execution_count": 8,
   "metadata": {},
   "outputs": [
    {
     "name": "stdout",
     "output_type": "stream",
     "text": [
      "file is not founded\n"
     ]
    }
   ],
   "source": [
    "open_file('kfkkf')"
   ]
  },
  {
   "cell_type": "code",
   "execution_count": 34,
   "metadata": {},
   "outputs": [],
   "source": [
    "#Write a Python program that prompts the user to input two numbers and raises a TypeError exception if the inputs are not numerical.\n",
    "def two_numbers():\n",
    "    try:\n",
    "        value1=int(input('insert first int'))\n",
    "        value2=int(input('insert second int'))\n",
    "        return(value1+value2)\n",
    "    except ValueError:\n",
    "        print('one of values is not int')\n"
   ]
  },
  {
   "cell_type": "code",
   "execution_count": 35,
   "metadata": {},
   "outputs": [
    {
     "name": "stdout",
     "output_type": "stream",
     "text": [
      "one of values is not int\n"
     ]
    }
   ],
   "source": [
    "two_numbers()"
   ]
  },
  {
   "cell_type": "code",
   "execution_count": 16,
   "metadata": {},
   "outputs": [],
   "source": [
    "#Write a Python program that opens a file and handles a PermissionError exception if there is a permission issue.\n",
    "def open_file(filename):\n",
    "    try:\n",
    "        with open(filename, 'w') as file:\n",
    "            print(\"File contents:\")\n",
    "    except PermissionError:\n",
    "        print('cannot open the file')\n",
    "\n"
   ]
  },
  {
   "cell_type": "code",
   "execution_count": 17,
   "metadata": {},
   "outputs": [
    {
     "name": "stdout",
     "output_type": "stream",
     "text": [
      "File contents:\n"
     ]
    }
   ],
   "source": [
    "open_file('hw-5')"
   ]
  },
  {
   "cell_type": "code",
   "execution_count": 18,
   "metadata": {},
   "outputs": [],
   "source": [
    "#Write a Python program that executes an operation on a list and handles an IndexError exception if the index is out of range.\n",
    "def check_index(list, index):\n",
    "    try:\n",
    "        result = list[index]\n",
    "        print(\"Result:\", result)\n",
    "    except IndexError:\n",
    "        print('index is out of range')\n"
   ]
  },
  {
   "cell_type": "code",
   "execution_count": 20,
   "metadata": {},
   "outputs": [
    {
     "name": "stdout",
     "output_type": "stream",
     "text": [
      "index is out of range\n"
     ]
    }
   ],
   "source": [
    "check_index([1,45,36,89],9)"
   ]
  },
  {
   "cell_type": "code",
   "execution_count": 22,
   "metadata": {},
   "outputs": [
    {
     "name": "stdout",
     "output_type": "stream",
     "text": [
      "num received succefully: 5656\n"
     ]
    }
   ],
   "source": [
    "#Write a Python program that prompts the user to input a number and handles a KeyboardInterrupt exception if the user cancels the input.\n",
    "try:\n",
    "    a = int(input('insert any num: '))\n",
    "    print('num received succefully:', a)\n",
    "\n",
    "except KeyboardInterrupt:\n",
    "    print('keyboard interrupt happened')\n"
   ]
  },
  {
   "cell_type": "code",
   "execution_count": 23,
   "metadata": {},
   "outputs": [],
   "source": [
    "#Write a Python program that executes division and handles an ArithmeticError exception if there is an arithmetic error.\n",
    "def arithmetic_err(a, b):\n",
    "    try:\n",
    "        result = a / b\n",
    "        print('found', result)\n",
    "    except ArithmeticError:\n",
    "        print(\"it's an arithmetic error\")\n"
   ]
  },
  {
   "cell_type": "code",
   "execution_count": 24,
   "metadata": {},
   "outputs": [
    {
     "name": "stdout",
     "output_type": "stream",
     "text": [
      "found -14.0\n"
     ]
    }
   ],
   "source": [
    "arithmetic_err(56,-4)"
   ]
  },
  {
   "cell_type": "code",
   "execution_count": 25,
   "metadata": {},
   "outputs": [],
   "source": [
    "#Write a Python program that opens a file and handles a UnicodeDecodeError exception if there is an encoding issue.\n",
    "def read_file(filename):\n",
    "    encoding = input('Input the encoding ASCII for the file: ')\n",
    "    try:\n",
    "        with open(filename, 'r', encoding=encoding) as file:\n",
    "            contents = file.read()\n",
    "            print(\"File contents:\")\n",
    "            print(contents)\n",
    "    except UnicodeDecodeError:\n",
    "        print('this is unicodedecodeerror')\n"
   ]
  },
  {
   "cell_type": "code",
   "execution_count": 36,
   "id": "bbb5b858",
   "metadata": {},
   "outputs": [],
   "source": [
    "#Write a Python program that executes a list operation and handles an AttributeError exception if the attribute does not exist.\n",
    "def list_len(nums):\n",
    "    try:\n",
    "        a = len(nums)  \n",
    "        print('length of num is: ', a)\n",
    "    except AttributeError:\n",
    "       print('this is attribute error')\n",
    "\n"
   ]
  },
  {
   "cell_type": "code",
   "execution_count": 37,
   "metadata": {},
   "outputs": [
    {
     "name": "stdout",
     "output_type": "stream",
     "text": [
      "length of num is:  5\n"
     ]
    }
   ],
   "source": [
    "list_len([1,2,3,4,5])"
   ]
  },
  {
   "cell_type": "code",
   "execution_count": 41,
   "metadata": {},
   "outputs": [
    {
     "name": "stdout",
     "output_type": "stream",
     "text": [
      "What is Python language?                                                \n",
      "Python is a widely used high-level, general-purpose, interpreted, dynamic programming language.Its design philosophy emphasizes code readability, and its syntax allows programmers to express concepts in fewer lines of code than possible in\n",
      "languages such as C++ or Java. \n",
      "Python supports multiple programming paradigms, including object-oriented, imperative and functional programming or procedural styles. It features a dynamic type system and automatic memory management and has a large and comprehensive standard library.The best way we learn anything is by practice and exercise questions. We  have started this section for those (beginner to intermediate) who are \n",
      "familiar with Python.\n"
     ]
    }
   ],
   "source": [
    "#Write a Python program to read an entire text file.\n",
    "def file_read(filename):\n",
    "        txt = open(filename)\n",
    "        print(txt.read())\n",
    "\n",
    "file_read('test.txt')\n"
   ]
  },
  {
   "cell_type": "code",
   "execution_count": 42,
   "metadata": {},
   "outputs": [
    {
     "name": "stdout",
     "output_type": "stream",
     "text": [
      "What is Python language?                                                \n",
      "\n"
     ]
    }
   ],
   "source": [
    "#Write a Python program to read first n lines of a file.\n",
    "def file_read(filename, nlines):\n",
    "        from itertools import islice\n",
    "        with open(filename) as f:\n",
    "                for line in islice(f, nlines):\n",
    "                        print(line)\n",
    "file_read('test.txt',1)"
   ]
  },
  {
   "cell_type": "code",
   "execution_count": 43,
   "id": "f51a08f8",
   "metadata": {},
   "outputs": [
    {
     "name": "stdout",
     "output_type": "stream",
     "text": [
      "Python Exercises\n",
      "\n"
     ]
    }
   ],
   "source": [
    "#Write a Python program to append text to a file and display the text.\n",
    "def file_read(filename):\n",
    "        with open(filename, 'w') as myfile:\n",
    "                myfile.write('Python Exercises\\n')\n",
    "        txt = open(filename)\n",
    "        print(txt.read())\n",
    "file_read('test.txt')\n"
   ]
  },
  {
   "cell_type": "code",
   "execution_count": 52,
   "id": "74803bbb",
   "metadata": {},
   "outputs": [],
   "source": [
    "#Write a Python program to read last n lines of a file.\n",
    "def file_read_from_end(filename,n):\n",
    "    with open(filename) as f:\n",
    "        all_lines=f.readlines()\n",
    "        print(all_lines[-n:])\n",
    "                \n",
    "                \n"
   ]
  },
  {
   "cell_type": "code",
   "execution_count": 54,
   "id": "63c44995",
   "metadata": {},
   "outputs": [
    {
     "name": "stdout",
     "output_type": "stream",
     "text": [
      "['fdg']\n"
     ]
    }
   ],
   "source": [
    "\n",
    "file_read_from_end('test.txt',1)"
   ]
  },
  {
   "cell_type": "code",
   "execution_count": null,
   "id": "9f68a5ec",
   "metadata": {},
   "outputs": [],
   "source": []
  },
  {
   "cell_type": "code",
   "execution_count": null,
   "id": "ce50076e",
   "metadata": {},
   "outputs": [],
   "source": []
  },
  {
   "cell_type": "code",
   "execution_count": null,
   "metadata": {},
   "outputs": [],
   "source": []
  },
  {
   "cell_type": "code",
   "execution_count": null,
   "id": "391e94ed",
   "metadata": {},
   "outputs": [],
   "source": []
  },
  {
   "cell_type": "code",
   "execution_count": null,
   "id": "5ee333fe",
   "metadata": {},
   "outputs": [],
   "source": []
  },
  {
   "cell_type": "code",
   "execution_count": null,
   "id": "f035b659",
   "metadata": {},
   "outputs": [],
   "source": []
  },
  {
   "cell_type": "code",
   "execution_count": null,
   "id": "d9fe49f2",
   "metadata": {},
   "outputs": [],
   "source": []
  },
  {
   "cell_type": "code",
   "execution_count": null,
   "id": "d778b133",
   "metadata": {},
   "outputs": [],
   "source": []
  },
  {
   "cell_type": "code",
   "execution_count": null,
   "id": "607a708d",
   "metadata": {},
   "outputs": [],
   "source": []
  }
 ],
 "metadata": {
  "kernelspec": {
   "display_name": "Python 3",
   "language": "python",
   "name": "python3"
  },
  "language_info": {
   "codemirror_mode": {
    "name": "ipython",
    "version": 3
   },
   "file_extension": ".py",
   "mimetype": "text/x-python",
   "name": "python",
   "nbconvert_exporter": "python",
   "pygments_lexer": "ipython3",
   "version": "3.12.9"
  }
 },
 "nbformat": 4,
 "nbformat_minor": 5
}
