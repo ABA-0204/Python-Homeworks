{
 "cells": [
  {
   "cell_type": "code",
   "execution_count": 1,
   "id": "a9b47bbc",
   "metadata": {},
   "outputs": [],
   "source": [
    "#Write a Python program to create a class representing a Circle. Include methods to calculate its area and perimeter.\n",
    "class Circle:\n",
    "    def __init__(self, radius):\n",
    "        self.radius = radius\n",
    "    def calculate_circle_area(self):\n",
    "        return 3.14 * self.radius**2\n",
    "    \n",
    "    def calculate_circle_perimeter(self):\n",
    "        return 2 * 3.14 * self.radius\n"
   ]
  },
  {
   "cell_type": "code",
   "execution_count": 2,
   "id": "26a2db70",
   "metadata": {},
   "outputs": [],
   "source": [
    "a1=Circle(5)"
   ]
  },
  {
   "cell_type": "code",
   "execution_count": 3,
   "metadata": {},
   "outputs": [
    {
     "data": {
      "text/plain": [
       "78.5"
      ]
     },
     "execution_count": 3,
     "metadata": {},
     "output_type": "execute_result"
    }
   ],
   "source": [
    "a1.calculate_circle_area()"
   ]
  },
  {
   "cell_type": "code",
   "execution_count": 10,
   "metadata": {},
   "outputs": [],
   "source": [
    "#Write a Python program to create a Person class. Include attributes like name, country, and date of birth. \n",
    "# Implement a method to determine the person's age.\n",
    "from datetime import date\n",
    "class Person:\n",
    "    def __init__(self, name, country, date_of_birth):\n",
    "        self.name = name\n",
    "        self.country = country\n",
    "        self.date_of_birth = date_of_birth\n",
    "    def calculate_age(self):\n",
    "        today = date.today()\n",
    "        age = today.year - self.date_of_birth\n",
    "        \n",
    "        return age\n",
    "\n"
   ]
  },
  {
   "cell_type": "code",
   "execution_count": 11,
   "metadata": {},
   "outputs": [],
   "source": [
    "b1= Person('Ann', 'England', 2003)"
   ]
  },
  {
   "cell_type": "code",
   "execution_count": 12,
   "metadata": {},
   "outputs": [
    {
     "data": {
      "text/plain": [
       "22"
      ]
     },
     "execution_count": 12,
     "metadata": {},
     "output_type": "execute_result"
    }
   ],
   "source": [
    "b1.calculate_age()"
   ]
  },
  {
   "cell_type": "code",
   "execution_count": 13,
   "id": "3bca0afc",
   "metadata": {},
   "outputs": [],
   "source": [
    "#Write a Python program to create a Calculator class. Include methods for basic arithmetic operations.\n",
    "class Calculator:\n",
    "    def add(self, x, y):\n",
    "        return x + y\n",
    "    def subtract(self, x, y):\n",
    "        return x - y\n",
    "    def multiply(self, x, y):\n",
    "        return x * y\n",
    "    def divide(self, x, y):\n",
    "        if y != 0:\n",
    "            return x / y\n",
    "        else:\n",
    "            return ('Int cannot divided by 0')\n",
    "\n"
   ]
  },
  {
   "cell_type": "code",
   "execution_count": 15,
   "metadata": {},
   "outputs": [],
   "source": [
    "c1= Calculator()"
   ]
  },
  {
   "cell_type": "code",
   "execution_count": 16,
   "id": "760c15cf",
   "metadata": {},
   "outputs": [
    {
     "data": {
      "text/plain": [
       "9"
      ]
     },
     "execution_count": 16,
     "metadata": {},
     "output_type": "execute_result"
    }
   ],
   "source": [
    "c1.add(2,7)"
   ]
  },
  {
   "cell_type": "code",
   "execution_count": 17,
   "metadata": {},
   "outputs": [],
   "source": [
    "#Write a Python program to create a class that represents a shape.\n",
    "#  Include methods to calculate its area and perimeter. Implement subclasses for different shapes like Circle, Triangle, and Square.\n",
    "class Shape:\n",
    "    def calculate_area(self):\n",
    "        pass\n",
    "    def calculate_perimeter(self):\n",
    "        pass\n",
    "\n",
    "class Circle(Shape):\n",
    "    def __init__(self, radius):\n",
    "        self.radius = radius\n",
    "    def calculate_area(self):\n",
    "        return 3,14 * self.radius**2\n",
    "    def calculate_perimeter(self):\n",
    "        return 2 * 3,14 * self.radius\n",
    "class Square(Shape):\n",
    "    def __init__(self):\n",
    "        super().__init__(self, side)\n",
    "        self.side= side\n",
    "    def calculate_area(self):\n",
    "        return self.side**2\n",
    "    def calculate_perimeter(self):\n",
    "        return 4*self.side\n",
    "class Triangle:\n",
    "    def __init__(self, base, height, side1, side2, side3):\n",
    "        self.base = base\n",
    "        self.height = height\n",
    "        self.side1 = side1\n",
    "        self.side2 = side2\n",
    "        self.side3 = side3\n",
    "    def calculate_area(self):\n",
    "        return 0.5 * self.base * self.height\n",
    "    def calculate_perimeter(self):\n",
    "        return self.side1 + self.side2 + self.side3"
   ]
  },
  {
   "cell_type": "code",
   "execution_count": 18,
   "id": "061fcbf7",
   "metadata": {},
   "outputs": [],
   "source": [
    "#Write a Python program to create a class representing a binary search tree. \n",
    "# Include methods for inserting and searching for elements in the binary tree.\n",
    "class Node:\n",
    "    # Initialize the Node object with a value, and set the left and right child pointers to None\n",
    "    def __init__(self, value):\n",
    "        self.value = value\n",
    "        self.left = None\n",
    "        self.right = None\n",
    "\n",
    "    # Define a custom __str__ method to convert the node's value to a string\n",
    "    def __str__(self):\n",
    "        return str(self.value)\n",
    "\n",
    "# Define a class called BinarySearchTree to represent a binary search tree\n",
    "class BinarySearchTree:\n",
    "    # Initialize the BST with an empty root node\n",
    "    def __init__(self):\n",
    "        self.root = None\n",
    "\n",
    "    # Insert a value into the BST\n",
    "    def insert(self, value):\n",
    "        # If the root is None, create a new node with the given value as the root\n",
    "        if self.root is None:\n",
    "            self.root = Node(value)\n",
    "        else:\n",
    "            self._insert_recursive(self.root, value)\n",
    "\n",
    "    # Helper method to recursively insert a value into the BST\n",
    "    def _insert_recursive(self, node, value):\n",
    "        if value < node.value:\n",
    "            if node.left is None:\n",
    "                node.left = Node(value)\n",
    "            else:\n",
    "                self._insert_recursive(node.left, value)\n",
    "        elif value > node.value:\n",
    "            if node.right is None:\n",
    "                node.right = Node(value)\n",
    "            else:\n",
    "                self._insert_recursive(node.right, value)\n",
    "\n",
    "    # Search for a value in the BST\n",
    "    def search(self, value):\n",
    "        return self._search_recursive(self.root, value)\n",
    "\n",
    "    # Helper method to recursively search for a value in the BST and return the node if found\n",
    "    def _search_recursive(self, node, value):\n",
    "        if node is None or node.value == value:\n",
    "            return node\n",
    "        if value < node.value:\n",
    "            return self._search_recursive(node.left, value)\n",
    "        else:\n",
    "            return self._search_recursive(node.right, value)\n",
    "\n"
   ]
  },
  {
   "cell_type": "code",
   "execution_count": 1,
   "id": "8f3b3244",
   "metadata": {},
   "outputs": [
    {
     "ename": "SyntaxError",
     "evalue": "invalid syntax (1549320325.py, line 60)",
     "output_type": "error",
     "traceback": [
      "  \u001b[36mCell\u001b[39m\u001b[36m \u001b[39m\u001b[32mIn[1]\u001b[39m\u001b[32m, line 60\u001b[39m\n\u001b[31m    \u001b[39m\u001b[31mSample Output:\u001b[39m\n           ^\n\u001b[31mSyntaxError\u001b[39m\u001b[31m:\u001b[39m invalid syntax\n"
     ]
    }
   ],
   "source": [
    "#Write a Python program to create a class representing a stack data structure. Include methods for pushing and popping elements.\n",
    "class Stack:\n",
    "    def __init__(self):\n",
    "        self.items = []\n",
    "    # Push an item onto the stack\n",
    "    def push(self, item):\n",
    "        self.items.append(item)\n",
    "\n",
    "    # Pop (remove and return) an item from the stack if the stack is not empty\n",
    "    def pop(self):\n",
    "        if not self.is_empty():\n",
    "            return self.items.pop()\n",
    "        else:\n",
    "            return \"Cannot pop from an empty stack.\"\n",
    "\n",
    "    # Check if the stack is empty\n",
    "    def is_empty(self):\n",
    "        return len(self.items) == 0\n",
    "\n",
    "    # Get the number of items in the stack\n",
    "    def size(self):\n",
    "        return len(self.items)\n",
    "\n",
    "    # Peek at the top item of the stack without removing it, if the stack is not empty\n",
    "    def peek(self):\n",
    "        if not self.is_empty():\n",
    "            return self.items[-1]\n",
    "        else:\n",
    "            return \"Empty stack.\"\n",
    "\n",
    "# Example usage\n",
    "# Create an instance of the Stack class\n",
    "stack = Stack()\n",
    "\n",
    "# Push items onto the stack\n",
    "stack.push(0)\n",
    "stack.push(1)\n",
    "stack.push(2)\n",
    "stack.push(3)\n",
    "stack.push(4)\n",
    "\n",
    "# Print the size of the stack and the top element\n",
    "print(\"Stack size:\", stack.size())\n",
    "print(\"Top element:\", stack.peek())\n",
    "\n",
    "# Pop an item from the stack, and print the popped item, and the updated size and top element\n",
    "popped_item = stack.pop()\n",
    "print(\"\\nPopped item:\", popped_item)\n",
    "print(\"\\nStack size:\", stack.size())\n",
    "print(\"Top element:\", stack.peek())\n",
    "\n",
    "#----------------------------------------\n",
    "# Create another instance of the Stack class\n",
    "stack1 = Stack()\n",
    "\n",
    "# Print the size of the empty stack and attempt to pop an item (with an error message)\n",
    "print(\"\\nStack size:\", stack1.size())\n",
    "popped_item = stack1.pop()\n",
    "print(\"\\nPopped item:\", popped_item) \n",
    "Sample Output:\n",
    "\n",
    "Stack size: 5\n",
    "Top element: 4\n",
    "Popped item: 4\n",
    "Stack size: 4\n",
    "Top element: 3\n",
    "Stack size: 0\n",
    "Popped item: Cannot pop from an empty stack.\n",
    "Explanation:\n",
    "\n",
    "In this above exercise,"
   ]
  },
  {
   "cell_type": "code",
   "execution_count": null,
   "metadata": {},
   "outputs": [],
   "source": []
  },
  {
   "cell_type": "code",
   "execution_count": null,
   "metadata": {},
   "outputs": [],
   "source": []
  },
  {
   "cell_type": "code",
   "execution_count": null,
   "metadata": {},
   "outputs": [],
   "source": []
  },
  {
   "cell_type": "code",
   "execution_count": null,
   "metadata": {},
   "outputs": [],
   "source": []
  },
  {
   "cell_type": "code",
   "execution_count": null,
   "metadata": {},
   "outputs": [],
   "source": []
  },
  {
   "cell_type": "code",
   "execution_count": null,
   "metadata": {},
   "outputs": [],
   "source": []
  },
  {
   "cell_type": "code",
   "execution_count": null,
   "metadata": {},
   "outputs": [],
   "source": []
  },
  {
   "cell_type": "code",
   "execution_count": null,
   "id": "74935f07",
   "metadata": {},
   "outputs": [],
   "source": []
  },
  {
   "cell_type": "code",
   "execution_count": null,
   "metadata": {},
   "outputs": [],
   "source": []
  },
  {
   "cell_type": "code",
   "execution_count": null,
   "metadata": {},
   "outputs": [],
   "source": []
  },
  {
   "cell_type": "code",
   "execution_count": null,
   "id": "6420cbb3",
   "metadata": {},
   "outputs": [],
   "source": []
  },
  {
   "cell_type": "code",
   "execution_count": null,
   "metadata": {},
   "outputs": [],
   "source": []
  }
 ],
 "metadata": {
  "kernelspec": {
   "display_name": "Python 3",
   "language": "python",
   "name": "python3"
  },
  "language_info": {
   "codemirror_mode": {
    "name": "ipython",
    "version": 3
   },
   "file_extension": ".py",
   "mimetype": "text/x-python",
   "name": "python",
   "nbconvert_exporter": "python",
   "pygments_lexer": "ipython3",
   "version": "3.12.9"
  }
 },
 "nbformat": 4,
 "nbformat_minor": 5
}
